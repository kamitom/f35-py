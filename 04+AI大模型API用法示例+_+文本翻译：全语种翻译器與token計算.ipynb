{
 "cells": [
  {
   "cell_type": "code",
   "execution_count": 1,
   "id": "deb0c18d-c603-4255-ba96-0fb78856687d",
   "metadata": {},
   "outputs": [],
   "source": [
    "from openai import OpenAI\n",
    "import tiktoken"
   ]
  },
  {
   "cell_type": "code",
   "execution_count": 2,
   "id": "5fe1064b-f3e4-4cde-a997-e891221c5981",
   "metadata": {},
   "outputs": [],
   "source": [
    "client = OpenAI()\n",
    "encoding = tiktoken.encoding_for_model(\"gpt-4o-mini\")"
   ]
  },
  {
   "cell_type": "code",
   "execution_count": 3,
   "id": "567a40b1-0259-428b-aba5-64a6e57928fc",
   "metadata": {},
   "outputs": [],
   "source": [
    "def get_openai_response(client, prompt, model=\"gpt-4o-mini\"):\n",
    "    response = client.chat.completions.create(\n",
    "        model=model,\n",
    "        messages=[{\"role\": \"user\", \"content\": prompt}],\n",
    "    )\n",
    "    return response.choices[0].message.content"
   ]
  },
  {
   "cell_type": "code",
   "execution_count": 4,
   "id": "4c5df2df-d4c3-4b68-b586-583df7234aba",
   "metadata": {},
   "outputs": [],
   "source": [
    "translate_prompt = \"\"\"\n",
    "請你充當一家外貿公司的翻譯，你的任務是對來自各國家用戶的消息進行翻譯。\n",
    "我會給你一段消息文本，請你首先判斷消息是什麼語言，比如法語。然後把消息翻譯成繁體中文。\n",
    "翻譯時請盡可能保留文本原本的語氣。輸出內容不要有任何額外的解釋或說明。\n",
    "\n",
    "輸出格式為:\n",
    "```\n",
    "============\n",
    "原始消息（<文本的語言>）：\n",
    "<原始消息>\n",
    "------------\n",
    "翻譯消息：\n",
    "<翻譯後的文本內容>\n",
    "============\n",
    "```\n",
    "\n",
    "來自用戶的消息內容會以三個#符號進行包圍。\n",
    "###\n",
    "{message}\n",
    "###\n",
    "\n",
    "\"\"\""
   ]
  },
  {
   "cell_type": "code",
   "execution_count": 5,
   "id": "768db506-9e1b-4df9-8c9b-3ded04bf784e",
   "metadata": {},
   "outputs": [
    {
     "name": "stdin",
     "output_type": "stream",
     "text": [
      " Das neueste Modell ist wirklich ein riesiger Sprung nach vorn. Verarbeitet bis ins Detail und mit einer starken Saugleistung ausgestattet, wird die Reinigung zum Selbstläufer. Die App ist moderner und deutlich benutzerfreundlicher geworden – ein echtes Upgrade! Das schicke Design und das faire Preis-Leistungs-Verhältnis sind zusätzlich Pluspunkte. Im Vergleich zum Vorgänger spart der neue Roboter wirklich Zeit und Nerven. Man startet ihn und kann sich auf sein sauberes Zuhause freuen, ohne viel Aufwand.  Rundum gelungen und jeden Cent wert! 💥\n"
     ]
    },
    {
     "name": "stdout",
     "output_type": "stream",
     "text": [
      "```\n",
      "============\n",
      "原始消息（德語）：\n",
      "Das neueste Modell ist wirklich ein riesiger Sprung nach vorn. Verarbeitet bis ins Detail und mit einer starken Saugleistung ausgestattet, wird die Reinigung zum Selbstläufer. Die App ist moderner und deutlich benutzerfreundlicher geworden – ein echtes Upgrade! Das schicke Design und das faire Preis-Leistungs-Verhältnis sind zusätzlich Pluspunkte. Im Vergleich zum Vorgänger spart der neue Roboter wirklich Zeit und Nerven. Man startet ihn und kann sich auf sein sauberes Zuhause freuen, ohne viel Aufwand.  Rundum gelungen und jeden Cent wert! 💥\n",
      "------------\n",
      "翻譯消息：\n",
      "最新的模型真的是一個巨大的進步。它在細節上處理得非常完善，擁有強大的吸力，使清潔變得輕而易舉。這款應用程序變得更加現代化，更加用戶友好——真是一個真正的升級！時尚的設計和合理的性價比也是額外的優勢。與前一代相比，這款新型機器人真的省時省力。啟動後，你可以期待擁有一個乾淨的家，幾乎不需要太多的努力。 總之，無可挑剔，絕對值得每一分錢！💥\n",
      "============\n",
      "```\n",
      "293\n"
     ]
    }
   ],
   "source": [
    "message = input()\n",
    "translate_response = get_openai_response(client, translate_prompt.format(message=message))\n",
    "print(translate_response)\n",
    "print(len(encoding.encode(translate_response)))\n"
   ]
  },
  {
   "cell_type": "code",
   "execution_count": null,
   "id": "da678eb7-8a3c-490c-9e48-5cb2db6ebeaa",
   "metadata": {},
   "outputs": [],
   "source": []
  }
 ],
 "metadata": {
  "kernelspec": {
   "display_name": "Python 3 (ipykernel)",
   "language": "python",
   "name": "python3"
  },
  "language_info": {
   "codemirror_mode": {
    "name": "ipython",
    "version": 3
   },
   "file_extension": ".py",
   "mimetype": "text/x-python",
   "name": "python",
   "nbconvert_exporter": "python",
   "pygments_lexer": "ipython3",
   "version": "3.13.0"
  }
 },
 "nbformat": 4,
 "nbformat_minor": 5
}
