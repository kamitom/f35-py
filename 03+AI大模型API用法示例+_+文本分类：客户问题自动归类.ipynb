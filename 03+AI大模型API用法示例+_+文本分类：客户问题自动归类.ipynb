{
 "cells": [
  {
   "cell_type": "code",
   "execution_count": 1,
   "id": "07f2b5a0-6e71-4333-8164-4fcc0c1fa780",
   "metadata": {},
   "outputs": [],
   "source": [
    "from openai import OpenAI"
   ]
  },
  {
   "cell_type": "code",
   "execution_count": 2,
   "id": "636a239d-cae2-4912-abe5-d1dcb49045e7",
   "metadata": {},
   "outputs": [],
   "source": [
    "client = OpenAI()"
   ]
  },
  {
   "cell_type": "code",
   "execution_count": 3,
   "id": "b4b6b3cc-4588-4eeb-8603-3ba6ae79b2aa",
   "metadata": {},
   "outputs": [],
   "source": [
    "def get_openai_response(client, prompt, model=\"gpt-4o-mini\"):\n",
    "    response = client.chat.completions.create(\n",
    "        model=model,\n",
    "        messages=[{\"role\": \"user\", \"content\": prompt}],\n",
    "    )\n",
    "    return response.choices[0].message.content"
   ]
  },
  {
   "cell_type": "code",
   "execution_count": 4,
   "id": "1a10d3c9-0300-422a-b333-510e5ab17c4c",
   "metadata": {},
   "outputs": [],
   "source": [
    "q1 = \"我剛買的XYZ智能手錶無法同步我的日曆，我應該怎麼辦？\"\n",
    "q2 = \"XYZ手錶的電池可以持續多久？\"\n",
    "q3 = \"XYZ品牌的手錶和ABC品牌的手錶相比，有什麼特別的功能嗎？\"\n",
    "q4 = \"安裝XYZ智能手錶的軟件更新後，手錶變得很慢，這是啥原因？\"\n",
    "q5 = \"XYZ智能手錶防水不？我可以用它來記錄我的游泳數據嗎？\"\n",
    "q6 = \"我想知道XYZ手錶的屏幕是什麼材質，容不容易刮花？\"\n",
    "q7 = \"請問XYZ手錶標準版和豪華版的售價分別是多少？還有沒有進行中的促銷活動？\"\n",
    "q_list = [q1, q2, q3, q4, q5, q6, q7]"
   ]
  },
  {
   "cell_type": "code",
   "execution_count": 5,
   "id": "06f6a221-f280-4352-a176-ccd1f252928c",
   "metadata": {},
   "outputs": [],
   "source": [
    "category_list = [\"产品规格\", \"使用咨询\", \"功能比较\", \"用户反馈\", \"价格查询\", \"故障问题\", \"其它\"]"
   ]
  },
  {
   "cell_type": "code",
   "execution_count": 6,
   "id": "4b722274-7db9-4d2f-af00-8c32c2df7624",
   "metadata": {},
   "outputs": [],
   "source": [
    "classify_prompt_template = \"\"\"\n",
    "你的任務是為用戶對產品的疑問進行分類。\n",
    "請仔細閱讀用戶的問題內容，給出所屬類別。類別應該是這些裡面的其中一個：{categories}。\n",
    "直接輸出所屬類別，不要有任何額外的描述或補充內容。\n",
    "用戶的問題內容會以三個#符號進行包圍。\n",
    "\n",
    "\n",
    "###\n",
    "{question}\n",
    "###\n",
    "\"\"\""
   ]
  },
  {
   "cell_type": "code",
   "execution_count": 7,
   "id": "bb4d903b-5c0d-49f6-96d0-a0b6bc713e75",
   "metadata": {},
   "outputs": [
    {
     "name": "stdout",
     "output_type": "stream",
     "text": [
      "故障问题\n",
      "产品规格\n",
      "功能比较\n",
      "故障问题\n",
      "产品规格\n",
      "产品规格\n",
      "价格查询\n"
     ]
    }
   ],
   "source": [
    "for q in q_list:\n",
    "    formatted_prompt = classify_prompt_template.format(categories=\"，\".join(category_list), question=q)\n",
    "    response = get_openai_response(client, formatted_prompt)\n",
    "    print(response)"
   ]
  },
  {
   "cell_type": "code",
   "execution_count": null,
   "id": "df8d3a02-ffcf-482d-8965-b80144e11499",
   "metadata": {},
   "outputs": [],
   "source": []
  }
 ],
 "metadata": {
  "kernelspec": {
   "display_name": "Python 3 (ipykernel)",
   "language": "python",
   "name": "python3"
  },
  "language_info": {
   "codemirror_mode": {
    "name": "ipython",
    "version": 3
   },
   "file_extension": ".py",
   "mimetype": "text/x-python",
   "name": "python",
   "nbconvert_exporter": "python",
   "pygments_lexer": "ipython3",
   "version": "3.13.0"
  }
 },
 "nbformat": 4,
 "nbformat_minor": 5
}
