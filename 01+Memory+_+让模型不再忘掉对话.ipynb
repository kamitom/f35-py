{
 "cells": [
  {
   "cell_type": "code",
   "execution_count": 1,
   "id": "45b3fe18-3361-4c79-9045-fa0dadc89d95",
   "metadata": {},
   "outputs": [],
   "source": [
    "from langchain.memory import ConversationBufferMemory\n",
    "from langchain.prompts import ChatPromptTemplate, MessagesPlaceholder\n",
    "from langchain_openai import ChatOpenAI"
   ]
  },
  {
   "cell_type": "code",
   "execution_count": 2,
   "id": "9b36d415-c6bd-4912-a3f8-da2fba5d2f91",
   "metadata": {},
   "outputs": [
    {
     "name": "stderr",
     "output_type": "stream",
     "text": [
      "/var/folders/rc/h9vs7w155hq63zr4fdc8yfx00000gn/T/ipykernel_56944/3614923015.py:1: LangChainDeprecationWarning: Please see the migration guide at: https://python.langchain.com/docs/versions/migrating_memory/\n",
      "  memory = ConversationBufferMemory(return_messages=True)\n"
     ]
    }
   ],
   "source": [
    "memory = ConversationBufferMemory(return_messages=True)"
   ]
  },
  {
   "cell_type": "code",
   "execution_count": 3,
   "id": "96cb92a1-4942-4677-a36c-d607bd650690",
   "metadata": {},
   "outputs": [
    {
     "data": {
      "text/plain": [
       "{'history': []}"
      ]
     },
     "execution_count": 3,
     "metadata": {},
     "output_type": "execute_result"
    }
   ],
   "source": [
    "memory.load_memory_variables({})"
   ]
  },
  {
   "cell_type": "code",
   "execution_count": 4,
   "id": "276127be-3191-4e11-ab44-ecfaef46ac02",
   "metadata": {},
   "outputs": [],
   "source": [
    "memory.save_context({\"input\": \"我的名字是Rossi Black\"},\n",
    "                    {\"output\": \"你好，Rossi Black\"})"
   ]
  },
  {
   "cell_type": "code",
   "execution_count": 5,
   "id": "9ad55d0f-18e1-4aa5-86ef-38bf84971f7a",
   "metadata": {},
   "outputs": [
    {
     "data": {
      "text/plain": [
       "{'history': [HumanMessage(content='我的名字是Rossi Black', additional_kwargs={}, response_metadata={}),\n",
       "  AIMessage(content='你好，Rossi Black', additional_kwargs={}, response_metadata={})]}"
      ]
     },
     "execution_count": 5,
     "metadata": {},
     "output_type": "execute_result"
    }
   ],
   "source": [
    "memory.load_memory_variables({})"
   ]
  },
  {
   "cell_type": "code",
   "execution_count": 6,
   "id": "f2a2ff6a-4bcd-4e5d-a369-a4e9037a5159",
   "metadata": {},
   "outputs": [
    {
     "data": {
      "text/plain": [
       "{'history': [HumanMessage(content='我的名字是Rossi Black', additional_kwargs={}, response_metadata={}),\n",
       "  AIMessage(content='你好，Rossi Black', additional_kwargs={}, response_metadata={}),\n",
       "  HumanMessage(content='我是一名軟體工程師，我住在西雅圖。我的軟體工程專項是網站開發全端工程師', additional_kwargs={}, response_metadata={}),\n",
       "  AIMessage(content='好的，我記住了', additional_kwargs={}, response_metadata={})]}"
      ]
     },
     "execution_count": 6,
     "metadata": {},
     "output_type": "execute_result"
    }
   ],
   "source": [
    "memory.save_context({\"input\": \"我是一名軟體工程師，我住在西雅圖。我的軟體工程專項是網站開發全端工程師\"}, {\n",
    "                    \"output\": \"好的，我記住了\"})\n",
    "memory.load_memory_variables({})"
   ]
  },
  {
   "cell_type": "code",
   "execution_count": 7,
   "id": "f25d19c2-f01e-48f8-9ee5-71532282dd18",
   "metadata": {},
   "outputs": [],
   "source": [
    "prompt = ChatPromptTemplate.from_messages(\n",
    "    [\n",
    "        (\"system\", \"你是一個樂於助人的助手。\"),\n",
    "        MessagesPlaceholder(variable_name=\"history\"),\n",
    "        (\"human\", \"{user_input}\"),\n",
    "    ]\n",
    ")"
   ]
  },
  {
   "cell_type": "code",
   "execution_count": 8,
   "id": "fe4980f9-073c-48f2-a68c-3e2e7ed50a55",
   "metadata": {},
   "outputs": [
    {
     "data": {
      "text/plain": [
       "{'history': [HumanMessage(content='我的名字是Rossi Black', additional_kwargs={}, response_metadata={}),\n",
       "  AIMessage(content='你好，Rossi Black', additional_kwargs={}, response_metadata={}),\n",
       "  HumanMessage(content='我是一名軟體工程師，我住在西雅圖。我的軟體工程專項是網站開發全端工程師', additional_kwargs={}, response_metadata={}),\n",
       "  AIMessage(content='好的，我記住了', additional_kwargs={}, response_metadata={})]}"
      ]
     },
     "execution_count": 8,
     "metadata": {},
     "output_type": "execute_result"
    }
   ],
   "source": [
    "memory.load_memory_variables({})"
   ]
  },
  {
   "cell_type": "code",
   "execution_count": 9,
   "id": "0d7801f4-510d-4036-b775-19e5645bf231",
   "metadata": {},
   "outputs": [],
   "source": [
    "model = ChatOpenAI(model=\"gpt-4o-mini\")"
   ]
  },
  {
   "cell_type": "code",
   "execution_count": 10,
   "id": "68c45a32-34c0-4c01-982a-b54172a4e640",
   "metadata": {},
   "outputs": [],
   "source": [
    "chain = prompt | model"
   ]
  },
  {
   "cell_type": "code",
   "execution_count": 11,
   "id": "1eb8738d-f226-4cf1-be48-7f1e41f91d40",
   "metadata": {},
   "outputs": [],
   "source": [
    "user_input = \"你知道我的名字嗎？我住在哪裡？\"\n",
    "history = memory.load_memory_variables({})[\"history\"]"
   ]
  },
  {
   "cell_type": "code",
   "execution_count": 12,
   "id": "1606e9c7-745d-4401-a608-34995c9a0fa3",
   "metadata": {
    "scrolled": true
   },
   "outputs": [
    {
     "data": {
      "text/plain": [
       "AIMessage(content='是的，你的名字是Rossi Black，你住在西雅圖。你是一名全端網站開發工程師。需要我幫助你什麼嗎？', additional_kwargs={'refusal': None}, response_metadata={'token_usage': {'completion_tokens': 37, 'prompt_tokens': 94, 'total_tokens': 131, 'completion_tokens_details': {'accepted_prediction_tokens': 0, 'audio_tokens': 0, 'reasoning_tokens': 0, 'rejected_prediction_tokens': 0}, 'prompt_tokens_details': {'audio_tokens': 0, 'cached_tokens': 0}}, 'model_name': 'gpt-4o-mini-2024-07-18', 'system_fingerprint': 'fp_bba3c8e70b', 'finish_reason': 'stop', 'logprobs': None}, id='run-a40a04f2-ef4f-40e4-a1d2-ae2e09778b54-0', usage_metadata={'input_tokens': 94, 'output_tokens': 37, 'total_tokens': 131, 'input_token_details': {'audio': 0, 'cache_read': 0}, 'output_token_details': {'audio': 0, 'reasoning': 0}})"
      ]
     },
     "execution_count": 12,
     "metadata": {},
     "output_type": "execute_result"
    }
   ],
   "source": [
    "result = chain.invoke({\n",
    "    \"user_input\": user_input,\n",
    "    'history': history\n",
    "})\n",
    "result"
   ]
  },
  {
   "cell_type": "code",
   "execution_count": 13,
   "id": "aa2456aa-b520-493d-9257-8f32cc27aa81",
   "metadata": {},
   "outputs": [
    {
     "data": {
      "text/plain": [
       "{'history': [HumanMessage(content='我的名字是Rossi Black', additional_kwargs={}, response_metadata={}),\n",
       "  AIMessage(content='你好，Rossi Black', additional_kwargs={}, response_metadata={}),\n",
       "  HumanMessage(content='我是一名軟體工程師，我住在西雅圖。我的軟體工程專項是網站開發全端工程師', additional_kwargs={}, response_metadata={}),\n",
       "  AIMessage(content='好的，我記住了', additional_kwargs={}, response_metadata={}),\n",
       "  HumanMessage(content='你知道我的名字嗎？我住在哪裡？', additional_kwargs={}, response_metadata={}),\n",
       "  AIMessage(content='是的，你的名字是Rossi Black，你住在西雅圖。你是一名全端網站開發工程師。需要我幫助你什麼嗎？', additional_kwargs={}, response_metadata={})]}"
      ]
     },
     "execution_count": 13,
     "metadata": {},
     "output_type": "execute_result"
    }
   ],
   "source": [
    "memory.save_context({\"input\": user_input}, {\"output\": result.content})\n",
    "memory.load_memory_variables({})"
   ]
  },
  {
   "cell_type": "code",
   "execution_count": 15,
   "id": "967bee41-0f62-44ba-aa3a-71eee83cf942",
   "metadata": {},
   "outputs": [
    {
     "data": {
      "text/plain": [
       "AIMessage(content='你上一個問題是：「我知道我的名字嗎？我住在哪裡？」我的回答是：「是的，你的名字是Rossi Black，你住在西雅圖。你是一名全端網站開發工程師。」有什麼其他我可以幫助你的嗎？', additional_kwargs={'refusal': None}, response_metadata={'token_usage': {'completion_tokens': 61, 'prompt_tokens': 169, 'total_tokens': 230, 'completion_tokens_details': {'accepted_prediction_tokens': 0, 'audio_tokens': 0, 'reasoning_tokens': 0, 'rejected_prediction_tokens': 0}, 'prompt_tokens_details': {'audio_tokens': 0, 'cached_tokens': 0}}, 'model_name': 'gpt-4o-mini-2024-07-18', 'system_fingerprint': 'fp_bba3c8e70b', 'finish_reason': 'stop', 'logprobs': None}, id='run-70251eb2-1c88-4bcd-88f3-99e7aa0d9889-0', usage_metadata={'input_tokens': 169, 'output_tokens': 61, 'total_tokens': 230, 'input_token_details': {'audio': 0, 'cache_read': 0}, 'output_token_details': {'audio': 0, 'reasoning': 0}})"
      ]
     },
     "execution_count": 15,
     "metadata": {},
     "output_type": "execute_result"
    }
   ],
   "source": [
    "user_input = \"根據對話歷史告诉我，我上一個問題問你的是什麼？你的回答是什麼？請重複一遍\"\n",
    "history = memory.load_memory_variables({})[\"history\"]\n",
    "\n",
    "result = chain.invoke({\n",
    "    \"user_input\": user_input,\n",
    "    'history': history\n",
    "})\n",
    "result"
   ]
  },
  {
   "cell_type": "code",
   "execution_count": null,
   "id": "840f2919-0eda-408e-86b2-ecbc24209e75",
   "metadata": {},
   "outputs": [],
   "source": []
  },
  {
   "cell_type": "code",
   "execution_count": null,
   "id": "0725a829",
   "metadata": {},
   "outputs": [],
   "source": []
  }
 ],
 "metadata": {
  "kernelspec": {
   "display_name": "v2-venv",
   "language": "python",
   "name": "python3"
  },
  "language_info": {
   "codemirror_mode": {
    "name": "ipython",
    "version": 3
   },
   "file_extension": ".py",
   "mimetype": "text/x-python",
   "name": "python",
   "nbconvert_exporter": "python",
   "pygments_lexer": "ipython3",
   "version": "3.13.0"
  }
 },
 "nbformat": 4,
 "nbformat_minor": 5
}
