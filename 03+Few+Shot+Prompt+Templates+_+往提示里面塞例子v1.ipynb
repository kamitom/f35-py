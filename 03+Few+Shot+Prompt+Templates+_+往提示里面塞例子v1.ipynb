{
 "cells": [
  {
   "cell_type": "code",
   "execution_count": 9,
   "id": "273d7bdc-8509-4525-b7a7-2acb1e2028e5",
   "metadata": {},
   "outputs": [],
   "source": [
    "from langchain_openai import ChatOpenAI\n",
    "from langchain.schema import HumanMessage\n",
    "from langchain.prompts import FewShotChatMessagePromptTemplate, ChatPromptTemplate"
   ]
  },
  {
   "cell_type": "code",
   "execution_count": 10,
   "id": "ca1b03c6-991c-4911-b75b-416d3806c5ea",
   "metadata": {},
   "outputs": [],
   "source": [
    "example_prompt = ChatPromptTemplate.from_messages(\n",
    "    [\n",
    "        (\"human\", \"格式化以下客户訊息：\\n姓名 -> {customer_name}\\n年齡 -> {customer_age}\\n 城市 -> {customer_city}\"),\n",
    "        (\"ai\", \"##客户訊息\\n- 客户姓名：{formatted_name}\\n- 客戶年齡：{formatted_age}\\n- 客户所在地：{formatted_city}\")\n",
    "    ]\n",
    ")"
   ]
  },
  {
   "cell_type": "code",
   "execution_count": 11,
   "id": "f0ea60fe-1d39-4422-9551-aec04745d620",
   "metadata": {},
   "outputs": [],
   "source": [
    "examples = [\n",
    "    {\n",
    "        \"customer_name\": \"彼得\", \n",
    "        \"customer_age\": \"27\",\n",
    "        \"customer_city\": \"金門\",\n",
    "        \"formatted_name\": \"彼得\",\n",
    "        \"formatted_age\": \"27歲\",\n",
    "        \"formatted_city\": \"福建省金門縣\"\n",
    "    },\n",
    "    {\n",
    "        \"customer_name\": \"蒲婷\", \n",
    "        \"customer_age\": \"51\",\n",
    "        \"customer_city\": \"池上\",\n",
    "        \"formatted_name\": \"蒲婷\",\n",
    "        \"formatted_age\": \"51歲\",\n",
    "        \"formatted_city\": \"台灣省池上鄉\"\n",
    "    },\n",
    "]"
   ]
  },
  {
   "cell_type": "code",
   "execution_count": 12,
   "id": "223e9d82-2c78-4d5f-9cb0-04af2b0e1d8c",
   "metadata": {},
   "outputs": [],
   "source": [
    "few_shot_template = FewShotChatMessagePromptTemplate(\n",
    "    example_prompt=example_prompt,\n",
    "    examples=examples,\n",
    ")"
   ]
  },
  {
   "cell_type": "code",
   "execution_count": 13,
   "id": "ad6cfabe-a7a0-47ed-bcc2-7a80641c8f7c",
   "metadata": {},
   "outputs": [],
   "source": [
    "final_prompt_template = ChatPromptTemplate.from_messages(\n",
    "    [\n",
    "        few_shot_template,\n",
    "        (\"human\", \"{input}\"),\n",
    "    ]\n",
    ")"
   ]
  },
  {
   "cell_type": "code",
   "execution_count": 14,
   "id": "a4812cc0-5d2f-49df-91a8-f61a79a828c8",
   "metadata": {},
   "outputs": [],
   "source": [
    "final_prompt = final_prompt_template.invoke({\"input\": \"格式化以下客户訊息：\\n姓名 -> 林安可\\n年齡 -> 34\\n 城市 -> 湖口'\"})"
   ]
  },
  {
   "cell_type": "code",
   "execution_count": 15,
   "id": "676d7f6e-c18a-424a-b6a8-87180ea086d0",
   "metadata": {},
   "outputs": [
    {
     "data": {
      "text/plain": [
       "[HumanMessage(content='格式化以下客户訊息：\\n姓名 -> 彼得\\n年齡 -> 27\\n 城市 -> 金門', additional_kwargs={}, response_metadata={}),\n",
       " AIMessage(content='##客户訊息\\n- 客户姓名：彼得\\n- 客戶年齡：27歲\\n- 客户所在地：福建省金門縣', additional_kwargs={}, response_metadata={}),\n",
       " HumanMessage(content='格式化以下客户訊息：\\n姓名 -> 蒲婷\\n年齡 -> 51\\n 城市 -> 池上', additional_kwargs={}, response_metadata={}),\n",
       " AIMessage(content='##客户訊息\\n- 客户姓名：蒲婷\\n- 客戶年齡：51歲\\n- 客户所在地：台灣省池上鄉', additional_kwargs={}, response_metadata={}),\n",
       " HumanMessage(content=\"格式化以下客户訊息：\\n姓名 -> 林安可\\n年齡 -> 34\\n 城市 -> 湖口'\", additional_kwargs={}, response_metadata={})]"
      ]
     },
     "execution_count": 15,
     "metadata": {},
     "output_type": "execute_result"
    }
   ],
   "source": [
    "final_prompt.messages"
   ]
  },
  {
   "cell_type": "code",
   "execution_count": 16,
   "id": "e18ae042-004a-4019-9beb-f9d0604ab4aa",
   "metadata": {},
   "outputs": [
    {
     "name": "stdout",
     "output_type": "stream",
     "text": [
      "## 客户訊息\n",
      "- 客户姓名：林安可\n",
      "- 客戶年齡：34歲\n",
      "- 客户所在地：湖口\n"
     ]
    }
   ],
   "source": [
    "model = ChatOpenAI(model=\"gpt-4o-mini\")\n",
    "response = model.invoke(final_prompt)\n",
    "print(response.content)"
   ]
  },
  {
   "cell_type": "code",
   "execution_count": null,
   "id": "c392ddc2-e4b3-4bc5-bf40-2ab52719bc45",
   "metadata": {},
   "outputs": [],
   "source": []
  }
 ],
 "metadata": {
  "kernelspec": {
   "display_name": "Python 3 (ipykernel)",
   "language": "python",
   "name": "python3"
  },
  "language_info": {
   "codemirror_mode": {
    "name": "ipython",
    "version": 3
   },
   "file_extension": ".py",
   "mimetype": "text/x-python",
   "name": "python",
   "nbconvert_exporter": "python",
   "pygments_lexer": "ipython3",
   "version": "3.13.0"
  }
 },
 "nbformat": 4,
 "nbformat_minor": 5
}
