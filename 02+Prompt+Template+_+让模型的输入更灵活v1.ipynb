{
 "cells": [
  {
   "cell_type": "code",
   "execution_count": 28,
   "id": "430e98a9-a159-4cf1-93a1-452e9a48681a",
   "metadata": {},
   "outputs": [],
   "source": [
    "from langchain.prompts import (\n",
    "    SystemMessagePromptTemplate,\n",
    "    AIMessagePromptTemplate,\n",
    "    HumanMessagePromptTemplate,\n",
    ")"
   ]
  },
  {
   "cell_type": "code",
   "execution_count": 29,
   "id": "9b64d8f7-48bf-409b-a6f0-e0dfc397cb16",
   "metadata": {},
   "outputs": [],
   "source": [
    "system_template_text=\"你是一位專業的翻譯，能夠將{input_language}翻譯成{output_language}，並且輸出文本會根據用戶要求的任何語言風格進行調整。請只輸出翻譯後的文本，不要有任何其它內容。\"\n",
    "system_prompt_template = SystemMessagePromptTemplate.from_template(system_template_text)"
   ]
  },
  {
   "cell_type": "code",
   "execution_count": 30,
   "id": "37109f89-6f85-4cda-ab98-f8c9d0b5b691",
   "metadata": {},
   "outputs": [
    {
     "data": {
      "text/plain": [
       "SystemMessagePromptTemplate(prompt=PromptTemplate(input_variables=['input_language', 'output_language'], input_types={}, partial_variables={}, template='你是一位專業的翻譯，能夠將{input_language}翻譯成{output_language}，並且輸出文本會根據用戶要求的任何語言風格進行調整。請只輸出翻譯後的文本，不要有任何其它內容。'), additional_kwargs={})"
      ]
     },
     "execution_count": 30,
     "metadata": {},
     "output_type": "execute_result"
    }
   ],
   "source": [
    "system_prompt_template"
   ]
  },
  {
   "cell_type": "code",
   "execution_count": 31,
   "id": "1cfa77bc-4cb7-485f-bbb8-6c9134a687fe",
   "metadata": {},
   "outputs": [
    {
     "data": {
      "text/plain": [
       "['input_language', 'output_language']"
      ]
     },
     "execution_count": 31,
     "metadata": {},
     "output_type": "execute_result"
    }
   ],
   "source": [
    "system_prompt_template.input_variables"
   ]
  },
  {
   "cell_type": "code",
   "execution_count": 32,
   "id": "d750991b-3d95-425f-85e0-6496e7de6b94",
   "metadata": {},
   "outputs": [],
   "source": [
    "human_template_text=\"文本：{text}\\n語言風格：{style}\"\n",
    "human_prompt_template = HumanMessagePromptTemplate.from_template(human_template_text)"
   ]
  },
  {
   "cell_type": "code",
   "execution_count": 33,
   "id": "52fc12d4-68f4-4207-a0e1-d388e9efd392",
   "metadata": {},
   "outputs": [
    {
     "data": {
      "text/plain": [
       "['style', 'text']"
      ]
     },
     "execution_count": 33,
     "metadata": {},
     "output_type": "execute_result"
    }
   ],
   "source": [
    "human_prompt_template.input_variables"
   ]
  },
  {
   "cell_type": "code",
   "execution_count": 34,
   "id": "a33fa030-85dc-480b-8ecd-e95f376d9a18",
   "metadata": {},
   "outputs": [
    {
     "data": {
      "text/plain": [
       "SystemMessage(content='你是一位專業的翻譯，能夠將英語翻譯成漢語，並且輸出文本會根據用戶要求的任何語言風格進行調整。請只輸出翻譯後的文本，不要有任何其它內容。', additional_kwargs={}, response_metadata={})"
      ]
     },
     "execution_count": 34,
     "metadata": {},
     "output_type": "execute_result"
    }
   ],
   "source": [
    "system_prompt = system_prompt_template.format(input_language=\"英語\", output_language=\"漢語\")\n",
    "system_prompt"
   ]
  },
  {
   "cell_type": "code",
   "execution_count": 35,
   "id": "22b35876-26b8-436b-a07f-b417169dee1c",
   "metadata": {},
   "outputs": [
    {
     "data": {
      "text/plain": [
       "HumanMessage(content='文本：To be or not to be, that is the question.\\n語言風格：文言文', additional_kwargs={}, response_metadata={})"
      ]
     },
     "execution_count": 35,
     "metadata": {},
     "output_type": "execute_result"
    }
   ],
   "source": [
    "human_prompt = human_prompt_template.format(text=\"To be or not to be, that is the question.\", style=\"文言文\")\n",
    "human_prompt"
   ]
  },
  {
   "cell_type": "code",
   "execution_count": 36,
   "id": "3d805402-0f0a-4b3c-a51f-ab7edb66ac86",
   "metadata": {},
   "outputs": [],
   "source": [
    "from langchain_openai import ChatOpenAI"
   ]
  },
  {
   "cell_type": "code",
   "execution_count": 37,
   "id": "bc6aba46-6917-43d2-b48d-3064c401c1fa",
   "metadata": {},
   "outputs": [],
   "source": [
    "model = ChatOpenAI(model=\"gpt-4o-mini\")\n",
    "response = model.invoke([\n",
    "    system_prompt,\n",
    "    human_prompt\n",
    "])"
   ]
  },
  {
   "cell_type": "code",
   "execution_count": 38,
   "id": "24936269-fb7e-4757-a6ea-e6d7f3384b6b",
   "metadata": {},
   "outputs": [
    {
     "name": "stdout",
     "output_type": "stream",
     "text": [
      "生存與否，乃是此問。\n"
     ]
    }
   ],
   "source": [
    "print(response.content)"
   ]
  },
  {
   "cell_type": "code",
   "execution_count": 39,
   "id": "075c3017-6450-4f67-826a-f08fa0160b0d",
   "metadata": {},
   "outputs": [],
   "source": [
    "input_variables = [\n",
    "    {\n",
    "        \"input_language\": \"英語\",\n",
    "        \"output_language\": \"漢語\",\n",
    "        \"text\": \"To be or not to be, that is the question.\",\n",
    "        \"style\": \"文言文\"\n",
    "    },\n",
    "    {\n",
    "        \"input_language\": \"法語\",\n",
    "        \"output_language\": \"英語\",\n",
    "        \"text\": \"grande loi martiale\",\n",
    "        \"style\": \"古英語\"\n",
    "    },\n",
    "    {\n",
    "        \"input_language\": \"俄語\",\n",
    "        \"output_language\": \"意大利語\",\n",
    "        \"text\": \"Подготовьтесь к изучению CCNA\",\n",
    "        \"style\": \"網路用語\"\n",
    "    },\n",
    "    {\n",
    "        \"input_language\": \"韓語\",\n",
    "        \"output_language\": \"日語\",\n",
    "        \"text\": \"나중에 회의를 할 예정이에요.\",\n",
    "        \"style\": \"口語\"\n",
    "    }\n",
    "]"
   ]
  },
  {
   "cell_type": "code",
   "execution_count": 40,
   "id": "44d397ea-1457-4ca1-b65e-7475cad01efc",
   "metadata": {},
   "outputs": [
    {
     "name": "stdout",
     "output_type": "stream",
     "text": [
      "生存與否，乃此之所問。\n",
      "great martial law\n",
      "Preparati a studiare il CCNA!\n",
      "後で会議をする予定だよ。\n"
     ]
    }
   ],
   "source": [
    "for input in input_variables:\n",
    "    response = model.invoke([\n",
    "        system_prompt_template.format(input_language=input[\"input_language\"], output_language=input[\"output_language\"]), \n",
    "        human_prompt_template.format(text=input[\"text\"], style=input[\"style\"])])\n",
    "    print(response.content)"
   ]
  },
  {
   "cell_type": "code",
   "execution_count": 16,
   "id": "f986a048-e0cf-451f-bce7-58f98292ca98",
   "metadata": {},
   "outputs": [],
   "source": [
    "from langchain.prompts import ChatPromptTemplate"
   ]
  },
  {
   "cell_type": "code",
   "execution_count": 17,
   "id": "1d28bb33-a121-476c-ae5d-cb4b4513eb9e",
   "metadata": {},
   "outputs": [],
   "source": [
    "prompt_template = ChatPromptTemplate.from_messages(\n",
    "    [\n",
    "        (\"system\", \"你是一位專業的翻譯，能夠將{input_language}翻譯成{output_language}，並且輸出文本會根據用戶要求的任何語言風格進行調整。請只輸出翻譯後的文本，不要有任何其它內容。\"),\n",
    "        (\"human\", \"文本：{text}\\n語言風格：{style}\"),\n",
    "    ]\n",
    ")"
   ]
  },
  {
   "cell_type": "code",
   "execution_count": 18,
   "id": "ba73a09d-d1bb-4882-9bd5-505ce3ce1962",
   "metadata": {},
   "outputs": [
    {
     "data": {
      "text/plain": [
       "['input_language', 'output_language', 'style', 'text']"
      ]
     },
     "execution_count": 18,
     "metadata": {},
     "output_type": "execute_result"
    }
   ],
   "source": [
    "prompt_template.input_variables"
   ]
  },
  {
   "cell_type": "code",
   "execution_count": 19,
   "id": "a425d7f2-b16b-4b3a-94a8-d5d7d6b4a058",
   "metadata": {},
   "outputs": [
    {
     "data": {
      "text/plain": [
       "ChatPromptValue(messages=[SystemMessage(content='你是一位專業的翻譯，能夠將英語翻譯成漢語，並且輸出文本會根據用戶要求的任何語言風格進行調整。請只輸出翻譯後的文本，不要有任何其它內容。', additional_kwargs={}, response_metadata={}), HumanMessage(content=\"文本：I'm so hungry I could eat a horse\\n語言風格：文言文\", additional_kwargs={}, response_metadata={})])"
      ]
     },
     "execution_count": 19,
     "metadata": {},
     "output_type": "execute_result"
    }
   ],
   "source": [
    "prompt_value = prompt_template.invoke({\"input_language\": \"英語\", \"output_language\": \"漢語\", \n",
    "                                       \"text\":\"I'm so hungry I could eat a horse\", \"style\": \"文言文\"})\n",
    "prompt_value"
   ]
  },
  {
   "cell_type": "code",
   "execution_count": 20,
   "id": "0d6f7314-9c01-4569-8ef6-62bf49dee402",
   "metadata": {},
   "outputs": [
    {
     "data": {
      "text/plain": [
       "[SystemMessage(content='你是一位專業的翻譯，能夠將英語翻譯成漢語，並且輸出文本會根據用戶要求的任何語言風格進行調整。請只輸出翻譯後的文本，不要有任何其它內容。', additional_kwargs={}, response_metadata={}),\n",
       " HumanMessage(content=\"文本：I'm so hungry I could eat a horse\\n語言風格：文言文\", additional_kwargs={}, response_metadata={})]"
      ]
     },
     "execution_count": 20,
     "metadata": {},
     "output_type": "execute_result"
    }
   ],
   "source": [
    "prompt_value.messages"
   ]
  },
  {
   "cell_type": "code",
   "execution_count": 21,
   "id": "1e281925-928e-4430-99e2-6aebe0669441",
   "metadata": {},
   "outputs": [],
   "source": [
    "model = ChatOpenAI(model=\"gpt-4o-mini\")\n",
    "response = model.invoke(prompt_value)"
   ]
  },
  {
   "cell_type": "code",
   "execution_count": 22,
   "id": "8e4f1857-2064-4d27-9925-377350e3da7c",
   "metadata": {
    "scrolled": true
   },
   "outputs": [
    {
     "data": {
      "text/plain": [
       "AIMessage(content='我饑腸轆轆，恨不能吞馬。', additional_kwargs={'refusal': None}, response_metadata={'token_usage': {'completion_tokens': 16, 'prompt_tokens': 92, 'total_tokens': 108, 'completion_tokens_details': {'accepted_prediction_tokens': 0, 'audio_tokens': 0, 'reasoning_tokens': 0, 'rejected_prediction_tokens': 0}, 'prompt_tokens_details': {'audio_tokens': 0, 'cached_tokens': 0}}, 'model_name': 'gpt-4o-mini-2024-07-18', 'system_fingerprint': 'fp_3de1288069', 'finish_reason': 'stop', 'logprobs': None}, id='run-7342f3c1-a79b-4957-b049-9681295d9dab-0', usage_metadata={'input_tokens': 92, 'output_tokens': 16, 'total_tokens': 108, 'input_token_details': {'audio': 0, 'cache_read': 0}, 'output_token_details': {'audio': 0, 'reasoning': 0}})"
      ]
     },
     "execution_count": 22,
     "metadata": {},
     "output_type": "execute_result"
    }
   ],
   "source": [
    "response"
   ]
  },
  {
   "cell_type": "code",
   "execution_count": 23,
   "id": "3fab8667-12cc-4000-b144-6b7e7cf5deba",
   "metadata": {},
   "outputs": [
    {
     "data": {
      "text/plain": [
       "'我饑腸轆轆，恨不能吞馬。'"
      ]
     },
     "execution_count": 23,
     "metadata": {},
     "output_type": "execute_result"
    }
   ],
   "source": [
    "response.content"
   ]
  },
  {
   "cell_type": "code",
   "execution_count": 26,
   "id": "e228f806-dd75-4ed9-b46a-716854019515",
   "metadata": {},
   "outputs": [],
   "source": [
    "input_variables = [\n",
    "    {\n",
    "        \"input_language\": \"英語\",\n",
    "        \"output_language\": \"漢語\",\n",
    "        \"text\": \"India police seek Starlink help over $4.25bn drug haul\",\n",
    "        \"style\": \"文言文\"\n",
    "    },\n",
    "    {\n",
    "        \"input_language\": \"法語\",\n",
    "        \"output_language\": \"英語\",\n",
    "        \"text\": \"Japon: un ours neutralisé après avoir blessé un homme dans un supermarché\",\n",
    "        \"style\": \"古英語\"\n",
    "    },\n",
    "    {\n",
    "        \"input_language\": \"俄語\",\n",
    "        \"output_language\": \"意大利語\",\n",
    "        \"text\": \"Захарова: план Келлога по Украине обсуждать преждевременно\",\n",
    "        \"style\": \"網路用語\"\n",
    "    },\n",
    "    {\n",
    "        \"input_language\": \"韓語\",\n",
    "        \"output_language\": \"日語\",\n",
    "        \"text\": \"건망증·경도인지장애·치매\",\n",
    "        \"style\": \"口語\"\n",
    "    }\n",
    "]"
   ]
  },
  {
   "cell_type": "code",
   "execution_count": 27,
   "id": "85f1f18d-4047-43b8-905a-05bd4ddcdc80",
   "metadata": {},
   "outputs": [
    {
     "name": "stdout",
     "output_type": "stream",
     "text": [
      "印度警方求助星鏈，以協助處理四十四億二千五百萬美元之毒品走私案。\n",
      "Japan: a bear hath been neutralized after wounding a man in a marketplace.\n",
      "Zakhrova: parlare del piano Kellogg per l'Ucraina è un po' prematuro.\n",
      "忘れっぽさ・軽度認知障害・認知症\n"
     ]
    }
   ],
   "source": [
    "for input in input_variables:\n",
    "    response = model.invoke(prompt_template.invoke({\"input_language\": input[\"input_language\"], \"output_language\": input[\"output_language\"], \n",
    "                                                    \"text\":input[\"text\"], \"style\": input[\"style\"]}))\n",
    "    print(response.content)"
   ]
  },
  {
   "cell_type": "code",
   "execution_count": null,
   "id": "770b0882-3ce3-499f-8e3f-021411ec71c0",
   "metadata": {},
   "outputs": [],
   "source": []
  }
 ],
 "metadata": {
  "kernelspec": {
   "display_name": "Python 3 (ipykernel)",
   "language": "python",
   "name": "python3"
  },
  "language_info": {
   "codemirror_mode": {
    "name": "ipython",
    "version": 3
   },
   "file_extension": ".py",
   "mimetype": "text/x-python",
   "name": "python",
   "nbconvert_exporter": "python",
   "pygments_lexer": "ipython3",
   "version": "3.13.0"
  }
 },
 "nbformat": 4,
 "nbformat_minor": 5
}
