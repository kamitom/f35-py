{
 "cells": [
  {
   "cell_type": "code",
   "execution_count": 1,
   "id": "8e57b6e7-c75e-464d-847a-18f470f679dd",
   "metadata": {},
   "outputs": [],
   "source": [
    "from langchain.chains import ConversationChain\n",
    "from langchain_openai import ChatOpenAI\n",
    "from langchain.memory import (ConversationBufferMemory, ConversationBufferWindowMemory, \n",
    "ConversationSummaryMemory, ConversationSummaryBufferMemory, ConversationTokenBufferMemory)"
   ]
  },
  {
   "cell_type": "code",
   "execution_count": 2,
   "id": "90038aba-78f9-4fa7-beec-9b56824cae61",
   "metadata": {},
   "outputs": [],
   "source": [
    "model = ChatOpenAI(model=\"gpt-4o-mini\")"
   ]
  },
  {
   "cell_type": "markdown",
   "id": "ee5f3885-49cf-42b9-953f-bc29cca12013",
   "metadata": {},
   "source": [
    "## ConversationBufferMemory"
   ]
  },
  {
   "cell_type": "code",
   "execution_count": 3,
   "id": "375b0da7-aea1-4799-b77b-c921177e08ad",
   "metadata": {},
   "outputs": [
    {
     "name": "stderr",
     "output_type": "stream",
     "text": [
      "/var/folders/rc/h9vs7w155hq63zr4fdc8yfx00000gn/T/ipykernel_62000/1007159948.py:1: LangChainDeprecationWarning: Please see the migration guide at: https://python.langchain.com/docs/versions/migrating_memory/\n",
      "  memory = ConversationBufferMemory(return_messages=True)\n",
      "/var/folders/rc/h9vs7w155hq63zr4fdc8yfx00000gn/T/ipykernel_62000/1007159948.py:2: LangChainDeprecationWarning: The class `ConversationChain` was deprecated in LangChain 0.2.7 and will be removed in 1.0. Use :meth:`~RunnableWithMessageHistory: https://python.langchain.com/v0.2/api_reference/core/runnables/langchain_core.runnables.history.RunnableWithMessageHistory.html` instead.\n",
      "  chain = ConversationChain(llm=model, memory=memory)\n"
     ]
    }
   ],
   "source": [
    "memory = ConversationBufferMemory(return_messages=True)\n",
    "chain = ConversationChain(llm=model, memory=memory)"
   ]
  },
  {
   "cell_type": "code",
   "execution_count": 4,
   "id": "93a9fefa-9b29-49fe-b2e7-605873d4c7d1",
   "metadata": {},
   "outputs": [
    {
     "data": {
      "text/plain": [
       "{'input': '你好，我的名字是Macrae',\n",
       " 'history': [HumanMessage(content='你好，我的名字是Macrae', additional_kwargs={}, response_metadata={}),\n",
       "  AIMessage(content='你好，Macrae！很高兴认识你！我是一款人工智能助手，随时准备帮助你。你今天过得怎么样？有什么想聊的话题吗？', additional_kwargs={}, response_metadata={})],\n",
       " 'response': '你好，Macrae！很高兴认识你！我是一款人工智能助手，随时准备帮助你。你今天过得怎么样？有什么想聊的话题吗？'}"
      ]
     },
     "execution_count": 4,
     "metadata": {},
     "output_type": "execute_result"
    }
   ],
   "source": [
    "chain.invoke({\"input\":\"你好，我的名字是Macrae\"})"
   ]
  },
  {
   "cell_type": "code",
   "execution_count": 5,
   "id": "404e4276-c957-4caa-a372-dd4623ef12b5",
   "metadata": {},
   "outputs": [
    {
     "data": {
      "text/plain": [
       "{'input': '我的名字是什麼？',\n",
       " 'history': [HumanMessage(content='你好，我的名字是Macrae', additional_kwargs={}, response_metadata={}),\n",
       "  AIMessage(content='你好，Macrae！很高兴认识你！我是一款人工智能助手，随时准备帮助你。你今天过得怎么样？有什么想聊的话题吗？', additional_kwargs={}, response_metadata={}),\n",
       "  HumanMessage(content='我的名字是什麼？', additional_kwargs={}, response_metadata={}),\n",
       "  AIMessage(content='你的名字是Macrae！很高兴再次提到你。你有没有什么特别的事情想和我分享，或者有什么问题想问我呢？', additional_kwargs={}, response_metadata={})],\n",
       " 'response': '你的名字是Macrae！很高兴再次提到你。你有没有什么特别的事情想和我分享，或者有什么问题想问我呢？'}"
      ]
     },
     "execution_count": 5,
     "metadata": {},
     "output_type": "execute_result"
    }
   ],
   "source": [
    "chain.invoke({\"input\":\"我的名字是什麼？\"})"
   ]
  },
  {
   "cell_type": "markdown",
   "id": "6ddeac03-1f07-4ff7-8411-90bd834139d1",
   "metadata": {},
   "source": [
    "## ConversationBufferWindowMemory"
   ]
  },
  {
   "cell_type": "code",
   "execution_count": 6,
   "id": "207e03b9-ffee-4a70-8f36-dca15804d8a3",
   "metadata": {},
   "outputs": [
    {
     "name": "stderr",
     "output_type": "stream",
     "text": [
      "/var/folders/rc/h9vs7w155hq63zr4fdc8yfx00000gn/T/ipykernel_62000/1154063104.py:1: LangChainDeprecationWarning: Please see the migration guide at: https://python.langchain.com/docs/versions/migrating_memory/\n",
      "  memory = ConversationBufferWindowMemory(k=1, return_messages=True)\n"
     ]
    }
   ],
   "source": [
    "memory = ConversationBufferWindowMemory(k=1, return_messages=True)\n",
    "chain = ConversationChain(llm=model, memory=memory)"
   ]
  },
  {
   "cell_type": "code",
   "execution_count": 7,
   "id": "aa01d34c-a293-425e-90bd-1b03179c2c87",
   "metadata": {},
   "outputs": [
    {
     "data": {
      "text/plain": [
       "{'input': '你好，我的名字是Macrae',\n",
       " 'history': [],\n",
       " 'response': '你好，Macrae！很高兴认识你！我叫AI助手。你今天过得怎么样？有什么特别的事情想分享吗？'}"
      ]
     },
     "execution_count": 7,
     "metadata": {},
     "output_type": "execute_result"
    }
   ],
   "source": [
    "chain.invoke({\"input\":\"你好，我的名字是Macrae\"})"
   ]
  },
  {
   "cell_type": "code",
   "execution_count": 8,
   "id": "14a9f1c4-da0c-4357-9f01-ba074a187225",
   "metadata": {},
   "outputs": [
    {
     "data": {
      "text/plain": [
       "{'input': '我是一個軟體工程師，軟體工程專項是全端開發。',\n",
       " 'history': [HumanMessage(content='你好，我的名字是Macrae', additional_kwargs={}, response_metadata={}),\n",
       "  AIMessage(content='你好，Macrae！很高兴认识你！我叫AI助手。你今天过得怎么样？有什么特别的事情想分享吗？', additional_kwargs={}, response_metadata={})],\n",
       " 'response': '哇，Macrae！全端開發是一個非常有趣的領域！你可以在前端和後端之間架起橋樑，這樣的技能非常受歡迎。你目前正在使用哪些技術或框架呢？像是React、Vue.js、Node.js，還是其他的工具？我很想聽聽你在這方面的經歷！'}"
      ]
     },
     "execution_count": 8,
     "metadata": {},
     "output_type": "execute_result"
    }
   ],
   "source": [
    "chain.invoke({\"input\":\"我是一個軟體工程師，軟體工程專項是全端開發。\"})"
   ]
  },
  {
   "cell_type": "code",
   "execution_count": 9,
   "id": "4bdb841f-091e-4fc2-87fb-a63289219246",
   "metadata": {},
   "outputs": [
    {
     "data": {
      "text/plain": [
       "{'input': '我的名字是什麼？請教我Vue.js。',\n",
       " 'history': [HumanMessage(content='我是一個軟體工程師，軟體工程專項是全端開發。', additional_kwargs={}, response_metadata={}),\n",
       "  AIMessage(content='哇，Macrae！全端開發是一個非常有趣的領域！你可以在前端和後端之間架起橋樑，這樣的技能非常受歡迎。你目前正在使用哪些技術或框架呢？像是React、Vue.js、Node.js，還是其他的工具？我很想聽聽你在這方面的經歷！', additional_kwargs={}, response_metadata={})],\n",
       " 'response': '你的名字是Macrae！很高興認識你！關於Vue.js，它是一個非常流行的前端 JavaScript 框架，用於構建用戶界面和單頁應用程序。Vue.js 的核心特點是其響應式數據綁定和組件系統，使得開發變得簡單而高效。\\n\\n如果你對 Vue.js 感興趣，這裡有一些基本概念：\\n\\n1. **響應式數據綁定**：Vue 允許你將數據綁定到 HTML 元素，當數據改變時，界面會自動更新。\\n\\n2. **組件**：Vue 的組件系統讓你可以將應用程序拆分為可重用的部分。每個組件都有自己的狀態和模板，這樣可以提高代碼的可維護性。\\n\\n3. **指令**：Vue 提供了一些特殊的標記（如 `v-bind` 和 `v-model`）來幫助你更方便地操作 DOM 和數據。\\n\\n4. **Vue Router**：如果你在開發單頁應用，Vue Router 可以幫助你管理路由，實現不同視圖的切換。\\n\\n5. **Vuex**：當應用程序變得複雜時，Vuex 是一個狀態管理庫，幫助你集中管理應用的狀態。\\n\\n如果你有特定的問題或想了解某個方面的細節，隨時告訴我！'}"
      ]
     },
     "execution_count": 9,
     "metadata": {},
     "output_type": "execute_result"
    }
   ],
   "source": [
    "chain.invoke({\"input\":\"我的名字是什麼？請教我Vue.js。\"})"
   ]
  },
  {
   "cell_type": "markdown",
   "id": "1ee4d11c-bf2e-463f-8904-f91d4e74e951",
   "metadata": {},
   "source": [
    "## ConversationSummaryMemory"
   ]
  },
  {
   "cell_type": "code",
   "execution_count": 10,
   "id": "41fa4a3e-2b7e-4fe1-9fe2-3c185dc82962",
   "metadata": {},
   "outputs": [
    {
     "name": "stderr",
     "output_type": "stream",
     "text": [
      "/var/folders/rc/h9vs7w155hq63zr4fdc8yfx00000gn/T/ipykernel_62000/790653307.py:1: LangChainDeprecationWarning: Please see the migration guide at: https://python.langchain.com/docs/versions/migrating_memory/\n",
      "  memory = ConversationSummaryMemory(return_messages=True, llm=model)\n"
     ]
    }
   ],
   "source": [
    "memory = ConversationSummaryMemory(return_messages=True, llm=model)\n",
    "chain = ConversationChain(llm=model, memory=memory)"
   ]
  },
  {
   "cell_type": "code",
   "execution_count": 11,
   "id": "f068f005-5d38-4fb2-9157-d8a519f712a2",
   "metadata": {},
   "outputs": [
    {
     "data": {
      "text/plain": [
       "{'input': '你好，我的名字是Macrae',\n",
       " 'history': [SystemMessage(content='', additional_kwargs={}, response_metadata={})],\n",
       " 'response': '你好，Macrae！很高兴认识你！我是一个人工智能助手，随时准备帮助你。你今天过得怎么样？有什么想聊的或需要帮助的事情吗？'}"
      ]
     },
     "execution_count": 11,
     "metadata": {},
     "output_type": "execute_result"
    }
   ],
   "source": [
    "chain.invoke({\"input\":\"你好，我的名字是Macrae\"})"
   ]
  },
  {
   "cell_type": "code",
   "execution_count": 12,
   "id": "179d2656-bff4-4f11-971d-654e27789281",
   "metadata": {},
   "outputs": [
    {
     "data": {
      "text/plain": [
       "{'input': '我是一個軟體工程師，你呢？',\n",
       " 'history': [SystemMessage(content=\"The human introduces themselves as Macrae. The AI responds warmly, expressing pleasure at meeting Macrae and offering assistance, while also inquiring about Macrae's day and if there is anything they would like to discuss or need help with.\", additional_kwargs={}, response_metadata={})],\n",
       " 'response': '很高興認識你，Macrae！作為一個AI，我沒有一個具體的職業，但我可以幫助解決問題、提供資訊和進行有趣的對話。聽到你是軟體工程師真讓我興奮！你在做什麼樣的專案呢？或者有什麼特別的話題想要討論嗎？'}"
      ]
     },
     "execution_count": 12,
     "metadata": {},
     "output_type": "execute_result"
    }
   ],
   "source": [
    "chain.invoke({\"input\":\"我是一個軟體工程師，你呢？\"})"
   ]
  },
  {
   "cell_type": "code",
   "execution_count": 13,
   "id": "e7eab038-6d28-4b74-8abd-30fffdc3e552",
   "metadata": {},
   "outputs": [
    {
     "data": {
      "text/plain": [
       "{'input': '我的名字是什麼？告訴我Deno2.0這個版本的特性',\n",
       " 'history': [SystemMessage(content=\"The human introduces themselves as Macrae and reveals they are a software engineer. The AI responds warmly, expressing pleasure at meeting Macrae and offering assistance, while inquiring about Macrae's day and if there is anything they would like to discuss or need help with. The AI also shares that it does not have a specific profession but can assist with problem-solving, information, and engaging conversations, expressing excitement about Macrae's work in software engineering and asking about their projects or topics of interest.\", additional_kwargs={}, response_metadata={})],\n",
       " 'response': '很高兴认识你，Macrae！关于 Deno 2.0，这个版本带来了一些令人兴奋的特性和改进。Deno 是一个现代的 JavaScript 和 TypeScript 运行时，由 Ryan Dahl 开发，它强调安全性和简洁性。\\n\\n在 Deno 2.0 中，一些主要特性包括：\\n\\n1. **改进的性能**：Deno 2.0 进行了多项性能优化，使得代码执行速度更快，启动时间更短。\\n\\n2. **增强的类型支持**：TypeScript 的支持得到了进一步增强，提供更好的类型推导和错误检查。\\n\\n3. **新的标准库**：Deno 的标准库得到了扩展，包含更多的实用工具和模块，使得开发者可以更方便地构建应用。\\n\\n4. **更好的错误处理**：错误处理机制得到了改进，提供了更清晰的错误信息，帮助开发者快速定位问题。\\n\\n5. **模块系统的改进**：Deno 继续支持 URL 导入，2.0 版本中对模块加载和缓存进行了优化，提高了模块管理的便利性。\\n\\n6. **社区和生态系统的支持**：随着 Deno 的普及，社区贡献了更多的第三方库和工具，丰富了 Deno 的生态系统。\\n\\n如果你对 Deno 2.0 的某些特性感兴趣，或者有其他问题，随时告诉我！'}"
      ]
     },
     "execution_count": 13,
     "metadata": {},
     "output_type": "execute_result"
    }
   ],
   "source": [
    "chain.invoke({\"input\":\"我的名字是什麼？告訴我Deno2.0這個版本的特性\"})"
   ]
  },
  {
   "cell_type": "markdown",
   "id": "f7d5299c-f24b-4247-875c-02ffd2053bf5",
   "metadata": {},
   "source": [
    "## ConversationSummaryBufferMemory"
   ]
  },
  {
   "cell_type": "code",
   "execution_count": 14,
   "id": "66ae2485-d1a3-4768-aee0-c6ee7c339976",
   "metadata": {},
   "outputs": [
    {
     "name": "stderr",
     "output_type": "stream",
     "text": [
      "/var/folders/rc/h9vs7w155hq63zr4fdc8yfx00000gn/T/ipykernel_62000/2239282372.py:1: LangChainDeprecationWarning: Please see the migration guide at: https://python.langchain.com/docs/versions/migrating_memory/\n",
      "  memory = ConversationSummaryBufferMemory(llm=model, max_token_limit=100, return_messages=True)\n"
     ]
    }
   ],
   "source": [
    "memory = ConversationSummaryBufferMemory(llm=model, max_token_limit=100, return_messages=True)\n",
    "chain = ConversationChain(llm=model, memory=memory)"
   ]
  },
  {
   "cell_type": "code",
   "execution_count": 15,
   "id": "de7f836e-dcdb-4535-9c5a-cb1c3ea527b5",
   "metadata": {},
   "outputs": [
    {
     "data": {
      "text/plain": [
       "{'input': '你好，我的名字是Macrae',\n",
       " 'history': [HumanMessage(content='你好，我的名字是Macrae', additional_kwargs={}, response_metadata={}),\n",
       "  AIMessage(content='你好，Macrae！很高兴认识你！我是一个AI助手，随时准备和你聊天。你今天过得怎么样？有什么想聊的话题吗？', additional_kwargs={}, response_metadata={})],\n",
       " 'response': '你好，Macrae！很高兴认识你！我是一个AI助手，随时准备和你聊天。你今天过得怎么样？有什么想聊的话题吗？'}"
      ]
     },
     "execution_count": 15,
     "metadata": {},
     "output_type": "execute_result"
    }
   ],
   "source": [
    "chain.invoke({\"input\":\"你好，我的名字是Macrae\"})"
   ]
  },
  {
   "cell_type": "code",
   "execution_count": 16,
   "id": "3351ee34-f466-4737-bd55-9293cf6826ec",
   "metadata": {},
   "outputs": [
    {
     "data": {
      "text/plain": [
       "{'input': '我是一個軟體工程師，我的軟體工程專項是全端工程，你呢？',\n",
       " 'history': [AIMessage(content='哇，Macrae！全端工程师真是个有趣的职业！我虽然不是软件工程师，但我了解很多关于编程、技术和软件开发的知识。我可以帮助你解答技术问题、分享编程技巧，或者讨论最新的科技趋势。你在全端开发中最喜欢使用哪些工具或框架呢？', additional_kwargs={}, response_metadata={})],\n",
       " 'response': '哇，Macrae！全端工程师真是个有趣的职业！我虽然不是软件工程师，但我了解很多关于编程、技术和软件开发的知识。我可以帮助你解答技术问题、分享编程技巧，或者讨论最新的科技趋势。你在全端开发中最喜欢使用哪些工具或框架呢？'}"
      ]
     },
     "execution_count": 16,
     "metadata": {},
     "output_type": "execute_result"
    }
   ],
   "source": [
    "chain.invoke({\"input\":\"我是一個軟體工程師，我的軟體工程專項是全端工程，你呢？\"})"
   ]
  },
  {
   "cell_type": "code",
   "execution_count": 17,
   "id": "8c718af1-6231-4492-9deb-1ab539849c54",
   "metadata": {},
   "outputs": [
    {
     "data": {
      "text/plain": [
       "{'input': '我的名字是什麼？我前面說過的',\n",
       " 'history': [SystemMessage(content=\"The human introduces themselves as Macrae. The AI responds warmly, expressing happiness to meet Macrae and offering to chat. Macrae states they are a software engineer specializing in full-stack development, and inquires about the AI's background.\", additional_kwargs={}, response_metadata={}),\n",
       "  AIMessage(content='哇，Macrae！全端工程师真是个有趣的职业！我虽然不是软件工程师，但我了解很多关于编程、技术和软件开发的知识。我可以帮助你解答技术问题、分享编程技巧，或者讨论最新的科技趋势。你在全端开发中最喜欢使用哪些工具或框架呢？', additional_kwargs={}, response_metadata={})],\n",
       " 'response': '你告诉我你叫Macrae！很高兴再次见到你，Macrae！如果你有任何问题或想讨论的事情，尽管告诉我！'}"
      ]
     },
     "execution_count": 17,
     "metadata": {},
     "output_type": "execute_result"
    }
   ],
   "source": [
    "chain.invoke({\"input\":\"我的名字是什麼？我前面說過的\"})"
   ]
  },
  {
   "cell_type": "markdown",
   "id": "9a71a730-215e-432a-8f58-4da84261854d",
   "metadata": {},
   "source": [
    "## ConversationTokenBufferMemory"
   ]
  },
  {
   "cell_type": "code",
   "execution_count": 18,
   "id": "c822e2b3-fa06-41c9-984b-da28cd2e94b7",
   "metadata": {},
   "outputs": [
    {
     "name": "stderr",
     "output_type": "stream",
     "text": [
      "/var/folders/rc/h9vs7w155hq63zr4fdc8yfx00000gn/T/ipykernel_62000/2047505438.py:1: LangChainDeprecationWarning: Please see the migration guide at: https://python.langchain.com/docs/versions/migrating_memory/\n",
      "  memory = ConversationTokenBufferMemory(llm=model, max_token_limit=200, return_messages=True)\n"
     ]
    }
   ],
   "source": [
    "memory = ConversationTokenBufferMemory(llm=model, max_token_limit=200, return_messages=True)\n",
    "chain = ConversationChain(llm=model, memory=memory)"
   ]
  },
  {
   "cell_type": "code",
   "execution_count": 19,
   "id": "ccded041-fee4-4c4f-9b86-9092bd95015f",
   "metadata": {},
   "outputs": [
    {
     "data": {
      "text/plain": [
       "{'input': '你好，我的名字是Macrae',\n",
       " 'history': [HumanMessage(content='你好，我的名字是Macrae', additional_kwargs={}, response_metadata={}),\n",
       "  AIMessage(content='你好，Macrae！很高兴认识你！我是一款人工智能助手，可以和你聊很多话题。你今天过得怎么样？有什么想聊的事情吗？', additional_kwargs={}, response_metadata={})],\n",
       " 'response': '你好，Macrae！很高兴认识你！我是一款人工智能助手，可以和你聊很多话题。你今天过得怎么样？有什么想聊的事情吗？'}"
      ]
     },
     "execution_count": 19,
     "metadata": {},
     "output_type": "execute_result"
    }
   ],
   "source": [
    "chain.invoke({\"input\":\"你好，我的名字是Macrae\"})"
   ]
  },
  {
   "cell_type": "code",
   "execution_count": 20,
   "id": "edda47ab-6006-42da-9053-e802b49f68a5",
   "metadata": {},
   "outputs": [
    {
     "data": {
      "text/plain": [
       "{'input': '我是一個軟體工程師，你呢？',\n",
       " 'history': [HumanMessage(content='你好，我的名字是Macrae', additional_kwargs={}, response_metadata={}),\n",
       "  AIMessage(content='你好，Macrae！很高兴认识你！我是一款人工智能助手，可以和你聊很多话题。你今天过得怎么样？有什么想聊的事情吗？', additional_kwargs={}, response_metadata={}),\n",
       "  HumanMessage(content='我是一個軟體工程師，你呢？', additional_kwargs={}, response_metadata={}),\n",
       "  AIMessage(content='我是一款人工智能助手，没有具体的职业，但我的“工作”就是帮助你解答问题、提供信息和进行有趣的对话！作为一名软件工程师，你一定对编程和技术有很多见解吧。你在做什么样的项目呢？或者有没有遇到什么有趣的挑战？', additional_kwargs={}, response_metadata={})],\n",
       " 'response': '我是一款人工智能助手，没有具体的职业，但我的“工作”就是帮助你解答问题、提供信息和进行有趣的对话！作为一名软件工程师，你一定对编程和技术有很多见解吧。你在做什么样的项目呢？或者有没有遇到什么有趣的挑战？'}"
      ]
     },
     "execution_count": 20,
     "metadata": {},
     "output_type": "execute_result"
    }
   ],
   "source": [
    "chain.invoke({\"input\":\"我是一個軟體工程師，你呢？\"})"
   ]
  },
  {
   "cell_type": "code",
   "execution_count": 21,
   "id": "eabd6ba4-a787-4c51-8dc4-427af0bada80",
   "metadata": {},
   "outputs": [
    {
     "data": {
      "text/plain": [
       "{'input': '我的名字是什麼？我前面說過的。另外，請先簡明扼要的說明k8s這個技術的主要用途是什麼？',\n",
       " 'history': [HumanMessage(content='我的名字是什麼？我前面說過的。另外，請先簡明扼要的說明k8s這個技術的主要用途是什麼？', additional_kwargs={}, response_metadata={}),\n",
       "  AIMessage(content='你的名字是Macrae！至于Kubernetes（通常缩写为k8s），它是一个开源的容器编排平台，主要用于自动化部署、扩展和管理容器化应用。K8s可以帮助开发者和运维团队更高效地管理微服务架构，确保应用的高可用性和可伸缩性。通过K8s，你可以轻松地在不同环境中部署和管理应用程序，从而提高开发和运维的效率。你对Kubernetes有什么特别的兴趣或问题吗？', additional_kwargs={}, response_metadata={})],\n",
       " 'response': '你的名字是Macrae！至于Kubernetes（通常缩写为k8s），它是一个开源的容器编排平台，主要用于自动化部署、扩展和管理容器化应用。K8s可以帮助开发者和运维团队更高效地管理微服务架构，确保应用的高可用性和可伸缩性。通过K8s，你可以轻松地在不同环境中部署和管理应用程序，从而提高开发和运维的效率。你对Kubernetes有什么特别的兴趣或问题吗？'}"
      ]
     },
     "execution_count": 21,
     "metadata": {},
     "output_type": "execute_result"
    }
   ],
   "source": [
    "chain.invoke({\"input\":\"我的名字是什麼？我前面說過的。另外，請先簡明扼要的說明k8s這個技術的主要用途是什麼？\"})"
   ]
  },
  {
   "cell_type": "code",
   "execution_count": 22,
   "id": "9e31d032-3c38-4ac6-b46b-a45a026efce3",
   "metadata": {},
   "outputs": [
    {
     "data": {
      "text/plain": [
       "{'input': 'k8s如何開始學習？要先了解Docker嗎？',\n",
       " 'history': [],\n",
       " 'response': '学习Kubernetes (k8s) 的确可以从了解Docker开始，因为Kubernetes是基于容器技术的，而Docker是最流行的容器化工具之一。以下是学习Kubernetes的一些步骤：\\n\\n1. **了解基础概念**：先熟悉容器、镜像、Docker等基本概念。可以通过Docker的官方文档或相关教程学习如何创建和管理容器。\\n\\n2. **安装Docker**：在你的计算机上安装Docker，并尝试运行一些简单的容器，以便理解容器的工作方式。\\n\\n3. **学习Kubernetes的基本概念**：\\n   - Pods：Kubernetes中最小的可部署单元，通常用于运行一个或多个容器。\\n   - Services：用于定义一组Pod的访问策略。\\n   - Deployments：用于管理Pod的声明式更新。\\n\\n4. **设置Kubernetes环境**：可以选择在本地使用Minikube或Kind，或者在云服务提供商（如AWS、GCP、Azure等）中创建Kubernetes集群。\\n\\n5. **实践**：通过创建和管理简单的Kubernetes应用来加深理解。可以尝试部署一个简单的Web应用，并使用Kubernetes管理其生命周期。\\n\\n6. **利用学习资源**：有很多在线课程、书籍和文档可以帮助你深入学习Kubernetes。推荐的资源包括Kubernetes官方文档、Udemy、Coursera上的课程，以及Kubernetes相关的书籍。\\n\\n7. **参与社区**：加入Kubernetes的社区（如Slack、论坛等）可以让你获得支持和灵感，同时也能了解最新的动态和最佳实践。\\n\\n通过以上步骤，你可以逐步掌握Kubernetes的使用。如果你有任何具体的问题或需要推荐的学习资源，随时问我！'}"
      ]
     },
     "execution_count": 22,
     "metadata": {},
     "output_type": "execute_result"
    }
   ],
   "source": [
    "chain.invoke({\"input\": \"k8s如何開始學習？要先了解Docker嗎？\"})"
   ]
  },
  {
   "cell_type": "code",
   "execution_count": null,
   "id": "245b3044-bc3f-45eb-8f00-3008e5f33ddb",
   "metadata": {},
   "outputs": [],
   "source": []
  }
 ],
 "metadata": {
  "kernelspec": {
   "display_name": "Python 3 (ipykernel)",
   "language": "python",
   "name": "python3"
  },
  "language_info": {
   "codemirror_mode": {
    "name": "ipython",
    "version": 3
   },
   "file_extension": ".py",
   "mimetype": "text/x-python",
   "name": "python",
   "nbconvert_exporter": "python",
   "pygments_lexer": "ipython3",
   "version": "3.13.0"
  }
 },
 "nbformat": 4,
 "nbformat_minor": 5
}
