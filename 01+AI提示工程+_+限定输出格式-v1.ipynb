{
 "cells": [
  {
   "cell_type": "code",
   "execution_count": 1,
   "id": "a71e4545-62cd-4532-83a7-2fe72b097881",
   "metadata": {},
   "outputs": [],
   "source": [
    "from openai import OpenAI\n",
    "import json"
   ]
  },
  {
   "cell_type": "code",
   "execution_count": 2,
   "id": "499e27ac-d19c-4a9e-a5b2-cdbc862c9343",
   "metadata": {},
   "outputs": [],
   "source": [
    "client = OpenAI()"
   ]
  },
  {
   "cell_type": "code",
   "execution_count": 3,
   "id": "63c39512-669c-4bc0-ae34-ba86a6174eee",
   "metadata": {},
   "outputs": [],
   "source": [
    "# 請注意，如果你使用的是課程提供的 API 密鑰，上面單元格代碼初始化 OpenAI 類實例時還需要把 base_url 參數賦值為相應地址：\n",
    "# client = OpenAI(api_key=【你的密鑰】,\n",
    "#                 base_url=\"https://api.aigc369.com/v1\")\n"
   ]
  },
  {
   "cell_type": "code",
   "execution_count": 4,
   "id": "3580d2f3-0067-46fd-aad9-c4d77fc291b7",
   "metadata": {},
   "outputs": [],
   "source": [
    "prompt = f\"\"\"\n",
    "生成一個由三個虛構的訂單信息所組成的列表，以JSON格式進行返回。\n",
    "JSON列表裡的每個元素包含以下信息：\n",
    "order_id、customer_name、order_item、phone。\n",
    "所有信息都是字符串。\n",
    "除了JSON之外，不要輸出任何額外的文本。\n",
    "\"\"\""
   ]
  },
  {
   "cell_type": "code",
   "execution_count": 5,
   "id": "3adaca24-631e-4c0b-a219-e5c53ba02c1f",
   "metadata": {},
   "outputs": [
    {
     "name": "stdout",
     "output_type": "stream",
     "text": [
      "[\n",
      "    {\n",
      "        \"order_id\": \"001\",\n",
      "        \"customer_name\": \"Alice\",\n",
      "        \"order_item\": \"T-shirt\",\n",
      "        \"phone\": \"1234567890\"\n",
      "    },\n",
      "    {\n",
      "        \"order_id\": \"002\",\n",
      "        \"customer_name\": \"Bob\",\n",
      "        \"order_item\": \"Jeans\",\n",
      "        \"phone\": \"2345678901\"\n",
      "    },\n",
      "    {\n",
      "        \"order_id\": \"003\",\n",
      "        \"customer_name\": \"Carol\",\n",
      "        \"order_item\": \"Sneakers\",\n",
      "        \"phone\": \"3456789012\"\n",
      "    }\n",
      "]\n"
     ]
    }
   ],
   "source": [
    "response = client.chat.completions.create(\n",
    "  model=\"gpt-3.5-turbo\",\n",
    "  messages=[\n",
    "    {\n",
    "      \"role\": \"user\",\n",
    "      \"content\": prompt\n",
    "    }\n",
    "  ]\n",
    ")\n",
    "content = response.choices[0].message.content\n",
    "print(content)"
   ]
  },
  {
   "cell_type": "code",
   "execution_count": 6,
   "id": "1df486c3-8931-4c90-a24a-c51bec38f5fe",
   "metadata": {},
   "outputs": [
    {
     "data": {
      "text/plain": [
       "[{'order_id': '001',\n",
       "  'customer_name': 'Alice',\n",
       "  'order_item': 'T-shirt',\n",
       "  'phone': '1234567890'},\n",
       " {'order_id': '002',\n",
       "  'customer_name': 'Bob',\n",
       "  'order_item': 'Jeans',\n",
       "  'phone': '2345678901'},\n",
       " {'order_id': '003',\n",
       "  'customer_name': 'Carol',\n",
       "  'order_item': 'Sneakers',\n",
       "  'phone': '3456789012'}]"
      ]
     },
     "execution_count": 6,
     "metadata": {},
     "output_type": "execute_result"
    }
   ],
   "source": [
    "json.loads(content)"
   ]
  },
  {
   "cell_type": "code",
   "execution_count": 7,
   "id": "2ebdb8f5-e5c2-4119-9243-c70aec7f41ad",
   "metadata": {},
   "outputs": [
    {
     "data": {
      "text/plain": [
       "'T-shirt'"
      ]
     },
     "execution_count": 7,
     "metadata": {},
     "output_type": "execute_result"
    }
   ],
   "source": [
    "json.loads(content)[0][\"order_item\"]"
   ]
  },
  {
   "cell_type": "code",
   "execution_count": null,
   "id": "38a41750-eec1-4051-9c54-7ffbaa8c6bcc",
   "metadata": {},
   "outputs": [],
   "source": []
  }
 ],
 "metadata": {
  "kernelspec": {
   "display_name": "Python 3 (ipykernel)",
   "language": "python",
   "name": "python3"
  },
  "language_info": {
   "codemirror_mode": {
    "name": "ipython",
    "version": 3
   },
   "file_extension": ".py",
   "mimetype": "text/x-python",
   "name": "python",
   "nbconvert_exporter": "python",
   "pygments_lexer": "ipython3",
   "version": "3.13.0"
  }
 },
 "nbformat": 4,
 "nbformat_minor": 5
}
