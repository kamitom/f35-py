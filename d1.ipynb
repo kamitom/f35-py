{
 "cells": [
  {
   "cell_type": "code",
   "execution_count": 16,
   "id": "6b37814e-b218-436b-b239-70ad1e2b9d79",
   "metadata": {},
   "outputs": [],
   "source": [
    "from openai import OpenAI\n",
    "\n",
    "\n",
    "client = OpenAI()\n",
    "\n",
    "completion = client.chat.completions.create(\n",
    "    model=\"gpt-4o-mini\",  # gpt-3.5-turbo gpt-4o-mini\n",
    "    messages=[\n",
    "        {\"role\": \"system\", \"content\": \"You are a helpful assistant.\"},\n",
    "        {\n",
    "            \"role\": \"user\",\n",
    "            \"content\": \"我想知道西元2011時,當時的日本首相是誰？在3月11日發生了什麼事？\"\n",
    "        }\n",
    "    ],\n",
    "    max_tokens=500\n",
    ")\n",
    "\n",
    "# print(completion.choices[0].message)"
   ]
  },
  {
   "cell_type": "code",
   "execution_count": 17,
   "id": "10310686",
   "metadata": {},
   "outputs": [
    {
     "data": {
      "text/plain": [
       "ChatCompletionMessage(content='在2011年，當時的日本首相是菅直人（Naoto Kan）。在3月11日，發生了日本東北地方大地震（也被稱為東日本大震災），這場地震的震中位於宮城縣海域，震級達到9.0級，是日本歷史上最強烈的地震之一。這次地震引發了大規模的海嘯，對沿海地區造成了嚴重的破壞，並導致福島第一核電廠發生核災難，造成了廣泛的影響和後續的核輻射問題。這場災難對日本造成了深遠的影響。', refusal=None, role='assistant', audio=None, function_call=None, tool_calls=None)"
      ]
     },
     "execution_count": 17,
     "metadata": {},
     "output_type": "execute_result"
    }
   ],
   "source": [
    "completion.choices[0].message"
   ]
  },
  {
   "cell_type": "code",
   "execution_count": 18,
   "id": "b72245f3",
   "metadata": {},
   "outputs": [
    {
     "name": "stdout",
     "output_type": "stream",
     "text": [
      "在2011年，當時的日本首相是菅直人（Naoto Kan）。在3月11日，發生了日本東北地方大地震（也被稱為東日本大震災），這場地震的震中位於宮城縣海域，震級達到9.0級，是日本歷史上最強烈的地震之一。這次地震引發了大規模的海嘯，對沿海地區造成了嚴重的破壞，並導致福島第一核電廠發生核災難，造成了廣泛的影響和後續的核輻射問題。這場災難對日本造成了深遠的影響。\n"
     ]
    }
   ],
   "source": [
    "print(completion.choices[0].message.content)"
   ]
  }
 ],
 "metadata": {
  "kernelspec": {
   "display_name": "v2-venv",
   "language": "python",
   "name": "python3"
  },
  "language_info": {
   "codemirror_mode": {
    "name": "ipython",
    "version": 3
   },
   "file_extension": ".py",
   "mimetype": "text/x-python",
   "name": "python",
   "nbconvert_exporter": "python",
   "pygments_lexer": "ipython3",
   "version": "3.13.0"
  }
 },
 "nbformat": 4,
 "nbformat_minor": 5
}
