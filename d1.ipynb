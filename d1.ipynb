{
 "cells": [
  {
   "cell_type": "code",
   "execution_count": 2,
   "id": "6b37814e-b218-436b-b239-70ad1e2b9d79",
   "metadata": {},
   "outputs": [
    {
     "name": "stdout",
     "output_type": "stream",
     "text": [
      "ChatCompletionMessage(content='以下是2000年以後亞洲杯棒球賽的歷屆冠軍名單：\\n\\n- **2000年**：南韓\\n- **2001年**：日本\\n- **2003年**：日本\\n- **2005年**：日本\\n- **2007年**：日本\\n- **2010年**：日本\\n- **2012年**：中國隊\\n- **2014年**：日本\\n- **2016年**：日本\\n- **2018年**：日本\\n\\n請注意，這些冠軍名單可能會隨著時間的推移而更新，因此建議查閱最新資料以獲取資訊。', refusal=None, role='assistant', audio=None, function_call=None, tool_calls=None)\n"
     ]
    }
   ],
   "source": [
    "from openai import OpenAI\n",
    "\n",
    "\n",
    "client = OpenAI()\n",
    "\n",
    "completion = client.chat.completions.create(\n",
    "    model=\"gpt-4o-mini\",  # gpt-3.5-turbo gpt-4o-mini\n",
    "    messages=[\n",
    "        {\"role\": \"system\", \"content\": \"You are a helpful assistant.\"},\n",
    "        {\n",
    "            \"role\": \"user\",\n",
    "            \"content\": \"我想知道2000年後，亞洲杯棒球賽的歷年棒球冠軍名單.\"\n",
    "        }\n",
    "    ],\n",
    "    max_tokens=500\n",
    ")\n",
    "\n",
    "print(completion.choices[0].message)\n"
   ]
  },
  {
   "cell_type": "code",
   "execution_count": null,
   "id": "afd0375d-7af7-4dd4-b935-11a08b96c926",
   "metadata": {},
   "outputs": [],
   "source": []
  }
 ],
 "metadata": {
  "kernelspec": {
   "display_name": "Python 3 (ipykernel)",
   "language": "python",
   "name": "python3"
  },
  "language_info": {
   "codemirror_mode": {
    "name": "ipython",
    "version": 3
   },
   "file_extension": ".py",
   "mimetype": "text/x-python",
   "name": "python",
   "nbconvert_exporter": "python",
   "pygments_lexer": "ipython3",
   "version": "3.13.0"
  }
 },
 "nbformat": 4,
 "nbformat_minor": 5
}
