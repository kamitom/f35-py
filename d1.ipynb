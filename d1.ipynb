{
 "cells": [
  {
   "cell_type": "code",
   "execution_count": 1,
   "id": "6b37814e-b218-436b-b239-70ad1e2b9d79",
   "metadata": {},
   "outputs": [
    {
     "name": "stdout",
     "output_type": "stream",
     "text": [
      "ChatCompletionMessage(content='亞洲杯棒球賽（Asian Baseball Championship）是由亞洲棒球聯合會（Asian Baseball Confederation, ABC）主辦的比賽，主要是針對亞洲國家的棒球隊伍進行的競賽。歷年來的冠軍名單如下（截至2021年）：\\n\\n1. **1983年** - 日本\\n2. **1985年** - 日本\\n3. **1987年** - 日本\\n4. **1989年** - 韓國\\n5. **1991年** - 日本\\n6. **1993年** - 日本\\n7. **1995年** - 日本\\n8. **1997年** - 韓國\\n9. **1999年** - 韓國\\n10. **2001年** - 日本\\n11. **2003年** - 韓國\\n12. **2005年** - 日本\\n13. **2007年** - 韓國\\n14. **2008年** - 日本\\n15. **2010年** - 中國\\n16. **2012年** - 韓國\\n17. **2014年** - 韓國牌\\n18. **2016年** - 日本\\n19. **2018年** - 日本\\n20. **2020年** - （因疫情推遲，未舉行）\\n21. **2022年** - 日本\\n\\n這份名單可能不是最新的，若有需要的話，建議查詢相關的官方資料或最新賽事結果。如果你有其他問題或需要更多的資訊，請告訴我！', refusal=None, role='assistant', audio=None, function_call=None, tool_calls=None)\n"
     ]
    }
   ],
   "source": [
    "from openai import OpenAI\n",
    "\n",
    "\n",
    "client = OpenAI()\n",
    "\n",
    "completion = client.chat.completions.create(\n",
    "    model=\"gpt-4o-mini\",  # gpt-3.5-turbo gpt-4o-mini\n",
    "    messages=[\n",
    "        {\"role\": \"system\", \"content\": \"You are a helpful assistant.\"},\n",
    "        {\n",
    "            \"role\": \"user\",\n",
    "            \"content\": \"我想知道亞洲杯棒球賽的歷年棒球冠軍名單.\"\n",
    "        }\n",
    "    ],\n",
    "    max_tokens=500\n",
    ")\n",
    "\n",
    "print(completion.choices[0].message)\n"
   ]
  },
  {
   "cell_type": "code",
   "execution_count": null,
   "id": "afd0375d-7af7-4dd4-b935-11a08b96c926",
   "metadata": {},
   "outputs": [],
   "source": []
  }
 ],
 "metadata": {
  "kernelspec": {
   "display_name": "Python 3 (ipykernel)",
   "language": "python",
   "name": "python3"
  },
  "language_info": {
   "codemirror_mode": {
    "name": "ipython",
    "version": 3
   },
   "file_extension": ".py",
   "mimetype": "text/x-python",
   "name": "python",
   "nbconvert_exporter": "python",
   "pygments_lexer": "ipython3",
   "version": "3.13.0"
  }
 },
 "nbformat": 4,
 "nbformat_minor": 5
}
