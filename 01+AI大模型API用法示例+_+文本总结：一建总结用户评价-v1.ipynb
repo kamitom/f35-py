{
 "cells": [
  {
   "cell_type": "code",
   "execution_count": 1,
   "id": "78773ba6-ed25-4604-9785-928e96f7fdc5",
   "metadata": {},
   "outputs": [],
   "source": [
    "from openai import OpenAI"
   ]
  },
  {
   "cell_type": "code",
   "execution_count": 2,
   "id": "d876b518-8917-43ba-b334-b7a67f604c62",
   "metadata": {},
   "outputs": [],
   "source": [
    "client = OpenAI()"
   ]
  },
  {
   "cell_type": "code",
   "execution_count": 3,
   "id": "da2f167c-0a3a-41d7-ae13-8e72d0f3281c",
   "metadata": {},
   "outputs": [],
   "source": [
    "def get_openai_response(client, prompt, model=\"gpt-3.5-turbo\"):\n",
    "    response = client.chat.completions.create(\n",
    "        model=model,\n",
    "        messages=[{\"role\": \"user\", \"content\": prompt}],\n",
    "    )\n",
    "    return response.choices[0].message.content"
   ]
  },
  {
   "cell_type": "code",
   "execution_count": 4,
   "id": "baace047-20fd-4406-be45-02c4f762ef72",
   "metadata": {},
   "outputs": [],
   "source": [
    "product_review = \"\"\"\n",
    "我上个月买的这个多功能蓝牙耳机。它的连接速度还挺快，而且兼容性强，无论连接手机还是笔记本电脑，基本上都能快速配对上。\n",
    "音质方面，中高音清晰，低音效果震撼，当然这个价格来说一分钱一分货吧，毕竟也不便宜。\n",
    "耳机的电池续航能力不错，单次充满电可以连续使用超过8小时。\n",
    "不过这个耳机也有一些我不太满意的地方。首先是在长时间使用后，耳廓有轻微的压迫感，这可能是因为耳套的材料较硬。总之我感觉戴了超过4小时后耳朵会有点酸痛，需要摘下休息下。\n",
    "而且耳机的防水性能不是特别理想，在剧烈运动时的汗水防护上有待加强。\n",
    "最后是耳机盒子的开合机制感觉不够紧致，有时候会不小心打开。\n",
    "\"\"\""
   ]
  },
  {
   "cell_type": "code",
   "execution_count": 5,
   "id": "10ea91b5-e3a7-47e3-8688-7d1887ca0136",
   "metadata": {},
   "outputs": [],
   "source": [
    "product_review_prompt = f\"\"\"\n",
    "你的任务是为用户对产品的评价生成简要总结。\n",
    "请把总结主要分为两个方面，产品的优点，以及产品的缺点，并以Markdown列表形式展示。\n",
    "用户的评价内容会以三个#符号进行包围。\n",
    "\n",
    "###\n",
    "{product_review}\n",
    "###\n",
    "\"\"\""
   ]
  },
  {
   "cell_type": "code",
   "execution_count": 6,
   "id": "99140ee6-3d60-41d1-966a-f0ce5f766a4f",
   "metadata": {},
   "outputs": [
    {
     "data": {
      "text/plain": [
       "'\\n你的任务是为用户对产品的评价生成简要总结。\\n请把总结主要分为两个方面，产品的优点，以及产品的缺点，并以Markdown列表形式展示。\\n用户的评价内容会以三个#符号进行包围。\\n\\n###\\n\\n我上个月买的这个多功能蓝牙耳机。它的连接速度还挺快，而且兼容性强，无论连接手机还是笔记本电脑，基本上都能快速配对上。\\n音质方面，中高音清晰，低音效果震撼，当然这个价格来说一分钱一分货吧，毕竟也不便宜。\\n耳机的电池续航能力不错，单次充满电可以连续使用超过8小时。\\n不过这个耳机也有一些我不太满意的地方。首先是在长时间使用后，耳廓有轻微的压迫感，这可能是因为耳套的材料较硬。总之我感觉戴了超过4小时后耳朵会有点酸痛，需要摘下休息下。\\n而且耳机的防水性能不是特别理想，在剧烈运动时的汗水防护上有待加强。\\n最后是耳机盒子的开合机制感觉不够紧致，有时候会不小心打开。\\n\\n###\\n'"
      ]
     },
     "execution_count": 6,
     "metadata": {},
     "output_type": "execute_result"
    }
   ],
   "source": [
    "product_review_prompt"
   ]
  },
  {
   "cell_type": "code",
   "execution_count": 7,
   "id": "c0196ea7-8ab1-40a9-80fe-8627a3074c68",
   "metadata": {},
   "outputs": [
    {
     "data": {
      "text/plain": [
       "'产品的优点：\\n- 连接速度快，兼容性强\\n- 音质中高音清晰，低音效果震撼\\n- 电池续航能力强，单次充满电可以连续使用超过8小时\\n\\n产品的缺点：\\n- 长时间使用后耳廓有轻微的压迫感\\n- 防水性能不够理想，在剧烈运动时的汗水防护上有待加强\\n- 耳机盒子的开合机制不够紧致，有时会不小心打开'"
      ]
     },
     "execution_count": 7,
     "metadata": {},
     "output_type": "execute_result"
    }
   ],
   "source": [
    "response = get_openai_response(client, product_review_prompt)\n",
    "response"
   ]
  },
  {
   "cell_type": "code",
   "execution_count": 8,
   "id": "b77173bd-2b37-4f12-9289-ed0d4b4fff7b",
   "metadata": {},
   "outputs": [
    {
     "name": "stdout",
     "output_type": "stream",
     "text": [
      "产品的优点：\n",
      "- 连接速度快，兼容性强\n",
      "- 音质中高音清晰，低音效果震撼\n",
      "- 电池续航能力强，单次充满电可以连续使用超过8小时\n",
      "\n",
      "产品的缺点：\n",
      "- 长时间使用后耳廓有轻微的压迫感\n",
      "- 防水性能不够理想，在剧烈运动时的汗水防护上有待加强\n",
      "- 耳机盒子的开合机制不够紧致，有时会不小心打开\n"
     ]
    }
   ],
   "source": [
    "print(response)"
   ]
  },
  {
   "cell_type": "code",
   "execution_count": null,
   "id": "434610b3-ec30-474c-9415-5b8cd41ea9ab",
   "metadata": {},
   "outputs": [],
   "source": []
  }
 ],
 "metadata": {
  "kernelspec": {
   "display_name": "Python 3 (ipykernel)",
   "language": "python",
   "name": "python3"
  },
  "language_info": {
   "codemirror_mode": {
    "name": "ipython",
    "version": 3
   },
   "file_extension": ".py",
   "mimetype": "text/x-python",
   "name": "python",
   "nbconvert_exporter": "python",
   "pygments_lexer": "ipython3",
   "version": "3.13.0"
  }
 },
 "nbformat": 4,
 "nbformat_minor": 5
}
