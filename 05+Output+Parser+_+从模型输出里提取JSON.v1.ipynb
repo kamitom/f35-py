{
 "cells": [
  {
   "cell_type": "code",
   "execution_count": 1,
   "id": "1f36bfb4-6088-4d7d-a7c7-63a2c08c3cce",
   "metadata": {},
   "outputs": [],
   "source": [
    "from typing import List\n",
    "\n",
    "from langchain.output_parsers import PydanticOutputParser\n",
    "from langchain.prompts import ChatPromptTemplate\n",
    "from langchain.schema import HumanMessage\n",
    "from pydantic import BaseModel, Field\n",
    "from langchain_openai import ChatOpenAI"
   ]
  },
  {
   "cell_type": "code",
   "execution_count": 2,
   "id": "fe7289eb-7682-4921-861e-96bc79ec0886",
   "metadata": {},
   "outputs": [],
   "source": [
    "class BookInfo(BaseModel):\n",
    "    book_name: str = Field(description=\"書籍的名字\", example=\"百年孤獨\")\n",
    "    author_name: str = Field(description=\"書籍的作者\", example=\"加西亞·馬爾克斯\")\n",
    "    genres: List[str] = Field(description=\"書籍的體裁\", example=[\"小說\", \"文學\"])"
   ]
  },
  {
   "cell_type": "code",
   "execution_count": 3,
   "id": "67577918-9c24-4048-9be2-318ba6a41ded",
   "metadata": {},
   "outputs": [],
   "source": [
    "output_parser = PydanticOutputParser(pydantic_object=BookInfo)"
   ]
  },
  {
   "cell_type": "code",
   "execution_count": 4,
   "id": "353d313f-ab0d-4ea5-a412-dbde60a89e06",
   "metadata": {},
   "outputs": [
    {
     "name": "stdout",
     "output_type": "stream",
     "text": [
      "The output should be formatted as a JSON instance that conforms to the JSON schema below.\n",
      "\n",
      "As an example, for the schema {\"properties\": {\"foo\": {\"title\": \"Foo\", \"description\": \"a list of strings\", \"type\": \"array\", \"items\": {\"type\": \"string\"}}}, \"required\": [\"foo\"]}\n",
      "the object {\"foo\": [\"bar\", \"baz\"]} is a well-formatted instance of the schema. The object {\"properties\": {\"foo\": [\"bar\", \"baz\"]}} is not well-formatted.\n",
      "\n",
      "Here is the output schema:\n",
      "```\n",
      "{\"properties\": {\"book_name\": {\"description\": \"書籍的名字\", \"example\": \"百年孤獨\", \"title\": \"Book Name\", \"type\": \"string\"}, \"author_name\": {\"description\": \"書籍的作者\", \"example\": \"加西亞·馬爾克斯\", \"title\": \"Author Name\", \"type\": \"string\"}, \"genres\": {\"description\": \"書籍的體裁\", \"example\": [\"小說\", \"文學\"], \"items\": {\"type\": \"string\"}, \"title\": \"Genres\", \"type\": \"array\"}}, \"required\": [\"book_name\", \"author_name\", \"genres\"]}\n",
      "```\n"
     ]
    }
   ],
   "source": [
    "print(output_parser.get_format_instructions())"
   ]
  },
  {
   "cell_type": "code",
   "execution_count": 5,
   "id": "7a6810c9-1452-4107-9743-96fa4050173c",
   "metadata": {},
   "outputs": [],
   "source": [
    "prompt = ChatPromptTemplate.from_messages([\n",
    "    (\"system\", \"{parser_instructions} 你輸出的結果請使用中文。\"),\n",
    "    (\"human\", \"請你幫我從書籍概述中，提取書名、作者，以及書籍的體裁。書籍概述會被三個#符號包圍。\\n###{book_introduction}###\")\n",
    "])"
   ]
  },
  {
   "cell_type": "code",
   "execution_count": 11,
   "id": "537ba30b-17ad-4d25-a365-1474a1330275",
   "metadata": {},
   "outputs": [],
   "source": [
    "# book_introduction = \"\"\"《明朝那些事兒》，作者是當年明月。2006年3月在天涯社區首次發表，2009年3月21日連載完畢，邊寫作邊集結成書出版發行，一共7本。\n",
    "# 《明朝那些事兒》主要講述的是從1344年到1644年這三百年間關於明朝的一些故事。以史料為基礎，以年代和具體人物為主線，並加入了小說的筆法，語言幽默風趣。對明朝十六帝和其他王公權貴和小人物的命運進行全景展示，尤其對官場政治、戰爭、帝王心術著墨最多，並加入對當時政治經濟制度、人倫道德的演義。\n",
    "# 它以一種網絡語言向讀者娓娓道出三百多年關於明朝的歷史故事、人物。其中原本在歷史中陌生、模糊的歷史人物在書中一個個變得鮮活起來。《明朝那些事兒》為讀者解讀歷史中的另一面，讓歷史變成一部活生生的生活故事。\n",
    "\n",
    "# \"\"\"\n",
    "book_introduction = \"\"\"《萬曆十五年》是历史学者黄仁宇的代表作，英文名为 1587, a Year of No Significance: The Ming Dynasty in Decline，首次出版于1976年。这部作品主要聚焦于明朝万历皇帝统治下的1587年，通过对这一年发生的事件的分析，探讨了明朝衰落的根本原因。\n",
    "作品内容\n",
    "历史背景与主题\n",
    "书中以万历十五年的若干关键人物为主线，包括万历皇帝、首辅申时行、张居正、海瑞、戚继光和李贽等。黄仁宇通过这些人物的生平和所作所为，揭示了当时明朝政治、经济和社会的复杂性，以及这些因素如何影响国家的未来。尽管1587年在历史上看似无关紧要，但黄仁宇认为，这一年中的细微事件反映了整个帝国走向衰败的深层次问题。\n",
    "\n",
    "\"\"\"\n",
    "# book_introduction = \"\"\"\n",
    "# 《如果这是宋史》是由作者高天流云创作的一部历史小说，旨在以轻松幽默的方式讲述北宋和南宋的历史。这部作品受到《明朝那些事儿》的启发，试图通过生动的叙述风格和丰富的人物描写，让读者更好地理解宋朝的历史背景。\n",
    "# 作品内容\n",
    "# 叙述风格\n",
    "# 《如果这是宋史》采用了小说化的叙述方式，结合历史事件与虚构情节，试图让读者在轻松的氛围中了解宋朝的政治、经济、文化等方面。书中涵盖了多个重要人物和事件，描绘了当时社会的风貌。\n",
    "# \"\"\"\n",
    "final_prompt = prompt.invoke({\"book_introduction\": book_introduction, \n",
    "                              \"parser_instructions\": output_parser.get_format_instructions()})"
   ]
  },
  {
   "cell_type": "code",
   "execution_count": 12,
   "id": "33a3d876-fd17-43e7-860e-075f7915a6ae",
   "metadata": {
    "scrolled": true
   },
   "outputs": [
    {
     "name": "stdout",
     "output_type": "stream",
     "text": [
      "{\n",
      "  \"book_name\": \"萬曆十五年\",\n",
      "  \"author_name\": \"黃仁宇\",\n",
      "  \"genres\": [\"歷史\", \"非虛構\"]\n",
      "}\n"
     ]
    }
   ],
   "source": [
    "model = ChatOpenAI(model=\"gpt-4o-mini\")\n",
    "response = model.invoke(final_prompt)\n",
    "print(response.content)"
   ]
  },
  {
   "cell_type": "code",
   "execution_count": 13,
   "id": "0b1ccbf8-e1a0-4f8f-8f2b-8c8eb312803c",
   "metadata": {},
   "outputs": [
    {
     "data": {
      "text/plain": [
       "BookInfo(book_name='萬曆十五年', author_name='黃仁宇', genres=['歷史', '非虛構'])"
      ]
     },
     "execution_count": 13,
     "metadata": {},
     "output_type": "execute_result"
    }
   ],
   "source": [
    "result = output_parser.invoke(response)\n",
    "result"
   ]
  },
  {
   "cell_type": "code",
   "execution_count": 14,
   "id": "a26f6b54-8c3a-40c7-8325-9f202a6ca2fb",
   "metadata": {},
   "outputs": [
    {
     "data": {
      "text/plain": [
       "'萬曆十五年'"
      ]
     },
     "execution_count": 14,
     "metadata": {},
     "output_type": "execute_result"
    }
   ],
   "source": [
    "result.book_name"
   ]
  },
  {
   "cell_type": "code",
   "execution_count": 15,
   "id": "b56cddcd-7a15-4dca-bdbd-6c46a69c003d",
   "metadata": {},
   "outputs": [
    {
     "data": {
      "text/plain": [
       "['歷史', '非虛構']"
      ]
     },
     "execution_count": 15,
     "metadata": {},
     "output_type": "execute_result"
    }
   ],
   "source": [
    "result.genres"
   ]
  },
  {
   "cell_type": "code",
   "execution_count": null,
   "id": "c2a99bc8-96cc-405b-bd21-f78b75b4e561",
   "metadata": {},
   "outputs": [],
   "source": []
  }
 ],
 "metadata": {
  "kernelspec": {
   "display_name": "Python 3 (ipykernel)",
   "language": "python",
   "name": "python3"
  },
  "language_info": {
   "codemirror_mode": {
    "name": "ipython",
    "version": 3
   },
   "file_extension": ".py",
   "mimetype": "text/x-python",
   "name": "python",
   "nbconvert_exporter": "python",
   "pygments_lexer": "ipython3",
   "version": "3.13.0"
  }
 },
 "nbformat": 4,
 "nbformat_minor": 5
}
