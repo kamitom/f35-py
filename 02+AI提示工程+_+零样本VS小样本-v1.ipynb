{
 "cells": [
  {
   "cell_type": "code",
   "execution_count": 1,
   "id": "2960ee13-ecc9-46d1-b09f-1132da5154ea",
   "metadata": {},
   "outputs": [],
   "source": [
    "from openai import OpenAI"
   ]
  },
  {
   "cell_type": "code",
   "execution_count": 2,
   "id": "48368d7d-b663-4c8a-9870-ffb5f3a8b928",
   "metadata": {},
   "outputs": [],
   "source": [
    "client = OpenAI()"
   ]
  },
  {
   "cell_type": "code",
   "execution_count": 3,
   "id": "65706720-a93c-4ee8-919b-098e00246229",
   "metadata": {},
   "outputs": [
    {
     "name": "stdout",
     "output_type": "stream",
     "text": [
      "**姓名**: 林玉米  \n",
      "**年龄**: 27  \n",
      "**客户ID**: 00001  \n"
     ]
    }
   ],
   "source": [
    "response = client.chat.completions.create(\n",
    "  model=\"gpt-4o-mini\",\n",
    "  messages=[\n",
    "    {\n",
    "      \"role\": \"user\",\n",
    "      \"content\": \"格式化以下信息：\\n姓名 -> 林玉米\\n年龄 -> 27\\n客户ID -> 00001\"\n",
    "    }\n",
    "  ]\n",
    ")\n",
    "print(response.choices[0].message.content)"
   ]
  },
  {
   "cell_type": "code",
   "execution_count": 4,
   "id": "118a3434-407a-4161-ac06-335563e2c68c",
   "metadata": {},
   "outputs": [
    {
     "data": {
      "text/plain": [
       "'## 客户信息\\n- 客户姓名：陳文\\n- 客户年龄：32岁\\n- 客户ID：00003'"
      ]
     },
     "execution_count": 4,
     "metadata": {},
     "output_type": "execute_result"
    }
   ],
   "source": [
    "response = client.chat.completions.create(\n",
    "  model=\"gpt-4o-mini\",\n",
    "  messages=[\n",
    "    {\n",
    "      \"role\": \"user\",\n",
    "      \"content\": \"格式化以下信息：\\n姓名 -> 林玉米\\n年龄 -> 27\\n客户ID -> 00001\"\n",
    "    },\n",
    "    {\n",
    "      \"role\": \"assistant\",\n",
    "      \"content\": \"##客户信息\\n- 客户姓名：林玉米\\n- 客户年龄：27岁\\n- 客户ID：00001\"\n",
    "    },\n",
    "    {\n",
    "      \"role\": \"user\",\n",
    "      \"content\": \"格式化以下信息：\\n姓名 -> 岳東霖\\n年龄 -> 42\\n客户ID -> 00002\"\n",
    "    },\n",
    "    {\n",
    "      \"role\": \"assistant\",\n",
    "      \"content\": \"##客户信息\\n- 客户姓名：岳東霖\\n- 客户年龄：42岁\\n- 客户ID：00002\"\n",
    "    },\n",
    "    {\n",
    "      \"role\": \"user\",\n",
    "      \"content\": \"格式化以下信息：\\n姓名 -> 陳文\\n年龄 -> 32\\n客户ID -> 00003\"\n",
    "    }\n",
    "  ]\n",
    ")\n",
    "response.choices[0].message.content"
   ]
  },
  {
   "cell_type": "code",
   "execution_count": null,
   "id": "fdb55640-871d-49eb-ab23-89a37a5a3bb6",
   "metadata": {},
   "outputs": [],
   "source": []
  }
 ],
 "metadata": {
  "kernelspec": {
   "display_name": "Python 3 (ipykernel)",
   "language": "python",
   "name": "python3"
  },
  "language_info": {
   "codemirror_mode": {
    "name": "ipython",
    "version": 3
   },
   "file_extension": ".py",
   "mimetype": "text/x-python",
   "name": "python",
   "nbconvert_exporter": "python",
   "pygments_lexer": "ipython3",
   "version": "3.13.0"
  }
 },
 "nbformat": 4,
 "nbformat_minor": 5
}
