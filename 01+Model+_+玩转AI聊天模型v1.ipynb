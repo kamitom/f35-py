{
 "cells": [
  {
   "cell_type": "code",
   "execution_count": 1,
   "id": "8c69a590-417c-4b2e-a829-e609f2b53a40",
   "metadata": {},
   "outputs": [],
   "source": [
    "from langchain_openai import ChatOpenAI"
   ]
  },
  {
   "cell_type": "code",
   "execution_count": 2,
   "id": "0490c835-8584-4437-974e-2125a086c929",
   "metadata": {},
   "outputs": [],
   "source": [
    "model = ChatOpenAI(model=\"gpt-4o-mini\")"
   ]
  },
  {
   "cell_type": "code",
   "execution_count": 3,
   "id": "a9db3e8f-11b8-4731-9ffd-eee693c2d899",
   "metadata": {},
   "outputs": [],
   "source": [
    "# 请注意，如果你使用的是课程提供的API，需要额外指定 openai_api_base，比如：\n",
    "# model = ChatOpenAI(model=\"gpt-3.5-turbo\", \n",
    "#                    openai_api_key = \"<你的API密钥>\",\n",
    "#                    openai_api_base = \"https://api.aigc369.com/v1\")"
   ]
  },
  {
   "cell_type": "code",
   "execution_count": 4,
   "id": "ebcb3a59-f743-4331-a1b7-6308627fc44e",
   "metadata": {},
   "outputs": [],
   "source": [
    "# model = ChatOpenAI(model=\"gpt-3.5-turbo\", temperature=1.2, max_tokens=500, model_kwargs={\"frequency_penalty\":1.1})"
   ]
  },
  {
   "cell_type": "code",
   "execution_count": 5,
   "id": "726d1ce2-dfe6-4dfa-8c8c-2080caee17ce",
   "metadata": {},
   "outputs": [],
   "source": [
    "from langchain.schema.messages import HumanMessage, SystemMessage"
   ]
  },
  {
   "cell_type": "code",
   "execution_count": 6,
   "id": "236bacec-2032-4f8e-9132-bc9360ae9c9b",
   "metadata": {},
   "outputs": [],
   "source": [
    "messages = [\n",
    "    SystemMessage(content=\"請你作為我的資訊工程助教，用通俗易懂且間接的語言幫我解釋資訊領域範疇的概念。\"),\n",
    "    HumanMessage(content=\"什麼是路由器的VRF？\"),\n",
    "]"
   ]
  },
  {
   "cell_type": "code",
   "execution_count": 7,
   "id": "66502d5d-d529-44a8-b87e-fb1de26d7316",
   "metadata": {},
   "outputs": [],
   "source": [
    "response = model.invoke(messages)"
   ]
  },
  {
   "cell_type": "code",
   "execution_count": 8,
   "id": "25bc684c-3cac-4caa-ac06-f8c332b71eb7",
   "metadata": {},
   "outputs": [
    {
     "data": {
      "text/plain": [
       "AIMessage(content='量子力學可以想像成一種描述非常小的物體，比如原子和粒子的規則。與我們熟悉的日常物理不同，量子力學的世界充滿了奇妙和不確定性。\\n\\n想像一下，如果在我們的日常生活中，物體的行為是可以預測的，比如一顆球滾下斜坡，你可以很清楚地計算出它會停在哪裡。但是在量子力學中，粒子有時候就像是在玩捉迷藏，你無法確定它們的確切位置，甚至它們可能同時處於不同的狀態，直到你去觀察它們。\\n\\n量子力學還告訴我們，粒子可以互相影響，即使它們相隔很遠，這種現象叫做「量子纏結」。就像兩個好友即使在不同的城市，但卻能夠心有靈犀，感受到彼此的情緒變化。\\n\\n總的來說，量子力學是一種揭示微觀世界奇妙行為的理論，雖然它的規則與我們的直覺相反，但它幫助我們理解宇宙的基本運作方式。', additional_kwargs={'refusal': None}, response_metadata={'token_usage': {'completion_tokens': 284, 'prompt_tokens': 51, 'total_tokens': 335, 'completion_tokens_details': {'accepted_prediction_tokens': 0, 'audio_tokens': 0, 'reasoning_tokens': 0, 'rejected_prediction_tokens': 0}, 'prompt_tokens_details': {'audio_tokens': 0, 'cached_tokens': 0}}, 'model_name': 'gpt-4o-mini-2024-07-18', 'system_fingerprint': 'fp_0705bf87c0', 'finish_reason': 'stop', 'logprobs': None}, id='run-450c764f-3a85-44ff-b112-34fb223edd03-0', usage_metadata={'input_tokens': 51, 'output_tokens': 284, 'total_tokens': 335, 'input_token_details': {'audio': 0, 'cache_read': 0}, 'output_token_details': {'audio': 0, 'reasoning': 0}})"
      ]
     },
     "execution_count": 8,
     "metadata": {},
     "output_type": "execute_result"
    }
   ],
   "source": [
    "response"
   ]
  },
  {
   "cell_type": "code",
   "execution_count": 9,
   "id": "5f5f9964-eb1c-4db5-b8a0-8a0b7bd44860",
   "metadata": {},
   "outputs": [
    {
     "name": "stdout",
     "output_type": "stream",
     "text": [
      "量子力學可以想像成一種描述非常小的物體，比如原子和粒子的規則。與我們熟悉的日常物理不同，量子力學的世界充滿了奇妙和不確定性。\n",
      "\n",
      "想像一下，如果在我們的日常生活中，物體的行為是可以預測的，比如一顆球滾下斜坡，你可以很清楚地計算出它會停在哪裡。但是在量子力學中，粒子有時候就像是在玩捉迷藏，你無法確定它們的確切位置，甚至它們可能同時處於不同的狀態，直到你去觀察它們。\n",
      "\n",
      "量子力學還告訴我們，粒子可以互相影響，即使它們相隔很遠，這種現象叫做「量子纏結」。就像兩個好友即使在不同的城市，但卻能夠心有靈犀，感受到彼此的情緒變化。\n",
      "\n",
      "總的來說，量子力學是一種揭示微觀世界奇妙行為的理論，雖然它的規則與我們的直覺相反，但它幫助我們理解宇宙的基本運作方式。\n"
     ]
    }
   ],
   "source": [
    "print(response.content)"
   ]
  },
  {
   "cell_type": "code",
   "execution_count": null,
   "id": "30577125-ba5b-412f-aa90-14d93f5f3ab4",
   "metadata": {},
   "outputs": [],
   "source": []
  }
 ],
 "metadata": {
  "kernelspec": {
   "display_name": "Python 3 (ipykernel)",
   "language": "python",
   "name": "python3"
  },
  "language_info": {
   "codemirror_mode": {
    "name": "ipython",
    "version": 3
   },
   "file_extension": ".py",
   "mimetype": "text/x-python",
   "name": "python",
   "nbconvert_exporter": "python",
   "pygments_lexer": "ipython3",
   "version": "3.13.0"
  }
 },
 "nbformat": 4,
 "nbformat_minor": 5
}
